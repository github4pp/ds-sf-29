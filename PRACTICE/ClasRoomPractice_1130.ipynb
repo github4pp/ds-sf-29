{
 "cells": [
  {
   "cell_type": "markdown",
   "metadata": {},
   "source": [
    "# Classroom Practice Template"
   ]
  },
  {
   "cell_type": "code",
   "execution_count": 1,
   "metadata": {
    "collapsed": false
   },
   "outputs": [],
   "source": [
    "import pandas as pd\n",
    "import numpy as np\n",
    "import matplotlib.pyplot as plt\n",
    "\n",
    "from sklearn.linear_model import LinearRegression\n",
    "from sklearn.cross_validation import train_test_split\n",
    "from sklearn import metrics\n",
    "import statsmodels.formula.api as smf\n",
    "\n",
    "from scipy import stats\n",
    "import seaborn as sns\n",
    "\n",
    "#This will render the plots inline\n",
    "%matplotlib inline"
   ]
  },
  {
   "cell_type": "code",
   "execution_count": 2,
   "metadata": {
    "collapsed": false
   },
   "outputs": [],
   "source": [
    "#Read the data from a csv file containing biking data\n",
    "\n",
    "#bikedf = pd.read_csv('bikes.csv')\n",
    "#bikedf[:3]\n",
    "\n",
    "#commute_timeLR = {'DataLR': [25,22,60,45,60,0]}\n",
    "#cal_timeLR = pd.DataFrame(commute_timeLR)\n",
    "\n",
    "#Comparing p Value for two values\n",
    "#stats.ttest_ind(cal_timeLR, cal_timeRR) \n",
    "\n",
    "#Comparing one value with the preset value which is here 17% = 0.17\n",
    "#stats.ttest_1samp(fc_df['fc'], 0.17) \n",
    "\n",
    "#Plot the Data for the Berri1 field\n",
    "#bikedf['Berri1'].plot(figsize=(15,7))"
   ]
  },
  {
   "cell_type": "code",
   "execution_count": null,
   "metadata": {
    "collapsed": true
   },
   "outputs": [],
   "source": []
  }
 ],
 "metadata": {
  "anaconda-cloud": {},
  "kernelspec": {
   "display_name": "Python [default]",
   "language": "python",
   "name": "python2"
  },
  "language_info": {
   "codemirror_mode": {
    "name": "ipython",
    "version": 2
   },
   "file_extension": ".py",
   "mimetype": "text/x-python",
   "name": "python",
   "nbconvert_exporter": "python",
   "pygments_lexer": "ipython2",
   "version": "2.7.12"
  }
 },
 "nbformat": 4,
 "nbformat_minor": 0
}
