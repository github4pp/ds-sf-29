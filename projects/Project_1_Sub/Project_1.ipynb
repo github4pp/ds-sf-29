{
 "cells": [
  {
   "cell_type": "markdown",
   "metadata": {},
   "source": [
    "# Data Science - Project 1\n",
    "***"
   ]
  },
  {
   "cell_type": "markdown",
   "metadata": {},
   "source": [
    "## Problem Statement:\n",
    "___\n",
    "### Using the past 5 years of historical data from an Airline GDS (Global Distribution System like Sabre, Amadeus or Travelport) predict the possibility that a Traveler will book the next trip on the same carrier."
   ]
  },
  {
   "cell_type": "markdown",
   "metadata": {},
   "source": [
    "### Evaluating if this is a valid scenario for Data Analysis\n",
    "***\n",
    "\n",
    "Let's look at the SMART aspect of this problem statement."
   ]
  },
  {
   "cell_type": "markdown",
   "metadata": {},
   "source": [
    "**1. Specific** -  Determining the possibility of a Traveler choosing the same carrier for his next trip.\n",
    "\n",
    "**2. Measurable** - This criteria is measurable as there are various factors that could decide the booking like Cost of Ticket, Comfort of Travel etc.\n",
    "\n",
    "**3. Attainable** - There are various parameters captured in the system when a booking is done which could provide sufficient data to perform such analysis.\n",
    "\n",
    "**4. Reproducible** - Booking is a continuous process in the system. Tise analysis could be reproduced at any time with a historical data from a specifc period.\n",
    "\n",
    "**5. Time bound** - With proper analysis the trend could be well achieved within a month of analysis."
   ]
  },
  {
   "cell_type": "markdown",
   "metadata": {},
   "source": [
    "### What are the most commenly used data captured by GDS system during any Airline Booking?\n",
    "---"
   ]
  },
  {
   "cell_type": "markdown",
   "metadata": {},
   "source": [
    "Below are some of the most common information captured in the GDS system during any Airline booking.\n",
    "1. Name of Traveler\n",
    "2. Companion Details (Family/Friends if any)\n",
    "3. Date of Birth\n",
    "4. Citizenship\n",
    "5. Origin Location\n",
    "6. Destination Location\n",
    "7. Time of Departure\n",
    "8. Flight Number\n",
    "9. Carrier Name\n",
    "10. Class of Travel - Economy/Business/First\n",
    "11. Type of Travel - Domestic/International\n",
    "12. Connection Type - Direct Flight/Connecting Flight\n",
    "13. Seats Information\n",
    "14. In Flight Service Requested - Meals, WiFi etc\n",
    "15. Loyalty Number/Frequent Flyer Number (If Exists)\n",
    "16. Price of the Ticket\n",
    "17. Booked By - Online booking/Agent/Corporate etc"
   ]
  },
  {
   "cell_type": "markdown",
   "metadata": {},
   "source": [
    "### What is the Business value from this analysis?\n",
    "___"
   ]
  },
  {
   "cell_type": "markdown",
   "metadata": {},
   "source": [
    "A Traveler can book a ticket from any source but ultimately makes his Travel on an Airline. The experience of the Travel on the specifc carrier decides if the Traveler would opt for his next flight on the same carrier irrespective of from which source the booking is done. Airlines makes their booking inventory to be accessible from different booking platforms. As such it could be of a great business value for Airline Carriers if the analysis could predict the possibility of returning Travelers to boost their revenue."
   ]
  },
  {
   "cell_type": "markdown",
   "metadata": {},
   "source": [
    "### What could be the different deciding factor?\n",
    "***"
   ]
  },
  {
   "cell_type": "markdown",
   "metadata": {},
   "source": [
    "While there could be many factors that could influence a Traveler to choose his next Flight. Some of the probable factors could be \n",
    "\n",
    "1. Cost of Ticket\n",
    "2. Seating comfort\n",
    "3. Refund Policy of Tickets\n",
    "4. Ontime Departure and Arrival\n",
    "5. Duration of Travel - Shortest Travel Distance\n",
    "6. Offering Loyalty Points accoumulation through Travel\n",
    "7. Quality of InFlight Service - Meals, WiFi, Flight Attendant Service etc"
   ]
  },
  {
   "cell_type": "markdown",
   "metadata": {},
   "source": [
    "### What could be the different aspects of the analysis?\n",
    "___"
   ]
  },
  {
   "cell_type": "markdown",
   "metadata": {},
   "source": [
    "Travel is a world class business and is driven by different factors. While performing an analysis of returning customers different aspects should be considereded so that the outcome of this analysis is not generalized for all types of Travel. Based on the factors that could influence deciding factor on a Travel there could be below types of Travel.\n",
    "\n",
    "1. Domestic Travel\n",
    "2. International Travel\n",
    "3. Seasonal/Holiday Travel\n",
    "\n",
    "The factors those are considered for Travel could be very specific based on one of the above category of Travel. It would be a better approach to perform analysis for each of these category of travel separately and predict the possibility of returning Traveler. "
   ]
  },
  {
   "cell_type": "markdown",
   "metadata": {},
   "source": [
    "### What could be some of the exceptions to this analysis?\n",
    "---"
   ]
  },
  {
   "cell_type": "markdown",
   "metadata": {},
   "source": [
    "**1.** The Traveler doesn't always performs direct online booking of Flights. Its booked by their preferred Travel Agents who suggests some carrier of their choice to make a booking.\n",
    "\n",
    "**2.** For Corporate Travel the corporates are tied up with specifc carrier at times. In such scenario though the same Traveler keeps travling on the same flight multiple times but it would not necessarily be his preferred carrier."
   ]
  },
  {
   "cell_type": "markdown",
   "metadata": {},
   "source": [
    "### What is the exploratory analysis plan?\n",
    "***"
   ]
  },
  {
   "cell_type": "markdown",
   "metadata": {},
   "source": [
    "From the Historical data a proper analysis could be performed to derive a data on which criteria accounts for what percentage of deciding factor in each of the above category. \n",
    "For Example\n",
    "\n",
    "**Domestic Travel**\n",
    "\n",
    "Cost of Ticket | Seating Comfort | Refund Policy | Ontime Dep/Arr | Travel Duration | Loyalty Points | InFlt Service\n",
    "--- | --- |--- |--- |--- |--- |--- |\n",
    "40% | 20% | 10% | 40% | 20% | 15% | 5%\n",
    "\n",
    "**International Travel**\n",
    "\n",
    "Cost of Ticket | Seating Comfort | Refund Policy | Ontime Dep/Arr | Travel Duration | Loyalty Points | InFlt Service\n",
    "--- | --- |--- |--- |--- |--- |--- |\n",
    "60% | 40% | 50% | 40% | 70% | 25% | 15%\n",
    "\n",
    "**Seasonal/Holiday Travel**\n",
    "\n",
    "Cost of Ticket | Seating Comfort | Refund Policy | Ontime Dep/Arr | Travel Duration | Loyalty Points | InFlt Service\n",
    "--- | --- |--- |--- |--- |--- |--- |\n",
    "30% | 60% | 40% | 40% | 30% | 15% | 55%\n",
    "\n",
    "Once this analysis is performed the carrier benchmark index on each of these factors could be compared to figure out where does the carrier stands with respect to these parameters and the probabilty that a Traveler would choose the same carrier for the next trip could be computed"
   ]
  }
 ],
 "metadata": {
  "anaconda-cloud": {},
  "kernelspec": {
   "display_name": "Python [default]",
   "language": "python",
   "name": "python2"
  },
  "language_info": {
   "codemirror_mode": {
    "name": "ipython",
    "version": 2
   },
   "file_extension": ".py",
   "mimetype": "text/x-python",
   "name": "python",
   "nbconvert_exporter": "python",
   "pygments_lexer": "ipython2",
   "version": "2.7.12"
  }
 },
 "nbformat": 4,
 "nbformat_minor": 0
}
