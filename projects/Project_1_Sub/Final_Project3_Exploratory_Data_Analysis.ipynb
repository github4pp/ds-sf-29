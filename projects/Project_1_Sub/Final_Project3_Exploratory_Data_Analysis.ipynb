{
 "cells": [
  {
   "cell_type": "markdown",
   "metadata": {},
   "source": [
    "# Final Project - Exploratory Data Analysis - Predicting Airline Delay"
   ]
  },
  {
   "cell_type": "code",
   "execution_count": 2,
   "metadata": {
    "collapsed": false
   },
   "outputs": [],
   "source": [
    "import pandas as pd\n",
    "import numpy as np\n",
    "import matplotlib.pyplot as plt\n",
    "\n",
    "from sklearn.linear_model import LinearRegression\n",
    "from sklearn.cross_validation import train_test_split\n",
    "from sklearn import metrics\n",
    "import statsmodels.formula.api as smf\n",
    "\n",
    "from scipy import stats\n",
    "import seaborn as sns\n",
    "\n",
    "#This will render the plots inline\n",
    "%matplotlib inline"
   ]
  },
  {
   "cell_type": "code",
   "execution_count": 3,
   "metadata": {
    "collapsed": false
   },
   "outputs": [],
   "source": [
    "#Import the Airline Delay data in csv format\n",
    "fltdata = pd.read_csv('/Users/Prakash/GA/PROJECTS/airlinedelaycauses-DelayedFlights.csv')"
   ]
  },
  {
   "cell_type": "code",
   "execution_count": 4,
   "metadata": {
    "collapsed": false
   },
   "outputs": [
    {
     "data": {
      "text/plain": [
       "(1936758, 30)"
      ]
     },
     "execution_count": 4,
     "metadata": {},
     "output_type": "execute_result"
    }
   ],
   "source": [
    "#Check the Size of the data (How many Rows and Columns)\n",
    "fltdata.shape"
   ]
  },
  {
   "cell_type": "code",
   "execution_count": 5,
   "metadata": {
    "collapsed": false
   },
   "outputs": [
    {
     "data": {
      "text/html": [
       "<div>\n",
       "<table border=\"1\" class=\"dataframe\">\n",
       "  <thead>\n",
       "    <tr style=\"text-align: right;\">\n",
       "      <th></th>\n",
       "      <th>Unnamed: 0</th>\n",
       "      <th>Year</th>\n",
       "      <th>Month</th>\n",
       "      <th>DayofMonth</th>\n",
       "      <th>DayOfWeek</th>\n",
       "      <th>DepTime</th>\n",
       "      <th>CRSDepTime</th>\n",
       "      <th>ArrTime</th>\n",
       "      <th>CRSArrTime</th>\n",
       "      <th>UniqueCarrier</th>\n",
       "      <th>...</th>\n",
       "      <th>TaxiIn</th>\n",
       "      <th>TaxiOut</th>\n",
       "      <th>Cancelled</th>\n",
       "      <th>CancellationCode</th>\n",
       "      <th>Diverted</th>\n",
       "      <th>CarrierDelay</th>\n",
       "      <th>WeatherDelay</th>\n",
       "      <th>NASDelay</th>\n",
       "      <th>SecurityDelay</th>\n",
       "      <th>LateAircraftDelay</th>\n",
       "    </tr>\n",
       "  </thead>\n",
       "  <tbody>\n",
       "    <tr>\n",
       "      <th>0</th>\n",
       "      <td>0</td>\n",
       "      <td>2008</td>\n",
       "      <td>1</td>\n",
       "      <td>3</td>\n",
       "      <td>4</td>\n",
       "      <td>2003.0</td>\n",
       "      <td>1955</td>\n",
       "      <td>2211.0</td>\n",
       "      <td>2225</td>\n",
       "      <td>WN</td>\n",
       "      <td>...</td>\n",
       "      <td>4.0</td>\n",
       "      <td>8.0</td>\n",
       "      <td>0</td>\n",
       "      <td>N</td>\n",
       "      <td>0</td>\n",
       "      <td>NaN</td>\n",
       "      <td>NaN</td>\n",
       "      <td>NaN</td>\n",
       "      <td>NaN</td>\n",
       "      <td>NaN</td>\n",
       "    </tr>\n",
       "    <tr>\n",
       "      <th>1</th>\n",
       "      <td>1</td>\n",
       "      <td>2008</td>\n",
       "      <td>1</td>\n",
       "      <td>3</td>\n",
       "      <td>4</td>\n",
       "      <td>754.0</td>\n",
       "      <td>735</td>\n",
       "      <td>1002.0</td>\n",
       "      <td>1000</td>\n",
       "      <td>WN</td>\n",
       "      <td>...</td>\n",
       "      <td>5.0</td>\n",
       "      <td>10.0</td>\n",
       "      <td>0</td>\n",
       "      <td>N</td>\n",
       "      <td>0</td>\n",
       "      <td>NaN</td>\n",
       "      <td>NaN</td>\n",
       "      <td>NaN</td>\n",
       "      <td>NaN</td>\n",
       "      <td>NaN</td>\n",
       "    </tr>\n",
       "    <tr>\n",
       "      <th>2</th>\n",
       "      <td>2</td>\n",
       "      <td>2008</td>\n",
       "      <td>1</td>\n",
       "      <td>3</td>\n",
       "      <td>4</td>\n",
       "      <td>628.0</td>\n",
       "      <td>620</td>\n",
       "      <td>804.0</td>\n",
       "      <td>750</td>\n",
       "      <td>WN</td>\n",
       "      <td>...</td>\n",
       "      <td>3.0</td>\n",
       "      <td>17.0</td>\n",
       "      <td>0</td>\n",
       "      <td>N</td>\n",
       "      <td>0</td>\n",
       "      <td>NaN</td>\n",
       "      <td>NaN</td>\n",
       "      <td>NaN</td>\n",
       "      <td>NaN</td>\n",
       "      <td>NaN</td>\n",
       "    </tr>\n",
       "    <tr>\n",
       "      <th>3</th>\n",
       "      <td>4</td>\n",
       "      <td>2008</td>\n",
       "      <td>1</td>\n",
       "      <td>3</td>\n",
       "      <td>4</td>\n",
       "      <td>1829.0</td>\n",
       "      <td>1755</td>\n",
       "      <td>1959.0</td>\n",
       "      <td>1925</td>\n",
       "      <td>WN</td>\n",
       "      <td>...</td>\n",
       "      <td>3.0</td>\n",
       "      <td>10.0</td>\n",
       "      <td>0</td>\n",
       "      <td>N</td>\n",
       "      <td>0</td>\n",
       "      <td>2.0</td>\n",
       "      <td>0.0</td>\n",
       "      <td>0.0</td>\n",
       "      <td>0.0</td>\n",
       "      <td>32.0</td>\n",
       "    </tr>\n",
       "    <tr>\n",
       "      <th>4</th>\n",
       "      <td>5</td>\n",
       "      <td>2008</td>\n",
       "      <td>1</td>\n",
       "      <td>3</td>\n",
       "      <td>4</td>\n",
       "      <td>1940.0</td>\n",
       "      <td>1915</td>\n",
       "      <td>2121.0</td>\n",
       "      <td>2110</td>\n",
       "      <td>WN</td>\n",
       "      <td>...</td>\n",
       "      <td>4.0</td>\n",
       "      <td>10.0</td>\n",
       "      <td>0</td>\n",
       "      <td>N</td>\n",
       "      <td>0</td>\n",
       "      <td>NaN</td>\n",
       "      <td>NaN</td>\n",
       "      <td>NaN</td>\n",
       "      <td>NaN</td>\n",
       "      <td>NaN</td>\n",
       "    </tr>\n",
       "  </tbody>\n",
       "</table>\n",
       "<p>5 rows × 30 columns</p>\n",
       "</div>"
      ],
      "text/plain": [
       "   Unnamed: 0  Year  Month  DayofMonth  DayOfWeek  DepTime  CRSDepTime  \\\n",
       "0           0  2008      1           3          4   2003.0        1955   \n",
       "1           1  2008      1           3          4    754.0         735   \n",
       "2           2  2008      1           3          4    628.0         620   \n",
       "3           4  2008      1           3          4   1829.0        1755   \n",
       "4           5  2008      1           3          4   1940.0        1915   \n",
       "\n",
       "   ArrTime  CRSArrTime UniqueCarrier        ...          TaxiIn TaxiOut  \\\n",
       "0   2211.0        2225            WN        ...             4.0     8.0   \n",
       "1   1002.0        1000            WN        ...             5.0    10.0   \n",
       "2    804.0         750            WN        ...             3.0    17.0   \n",
       "3   1959.0        1925            WN        ...             3.0    10.0   \n",
       "4   2121.0        2110            WN        ...             4.0    10.0   \n",
       "\n",
       "   Cancelled  CancellationCode  Diverted  CarrierDelay  WeatherDelay NASDelay  \\\n",
       "0          0                 N         0           NaN           NaN      NaN   \n",
       "1          0                 N         0           NaN           NaN      NaN   \n",
       "2          0                 N         0           NaN           NaN      NaN   \n",
       "3          0                 N         0           2.0           0.0      0.0   \n",
       "4          0                 N         0           NaN           NaN      NaN   \n",
       "\n",
       "  SecurityDelay  LateAircraftDelay  \n",
       "0           NaN                NaN  \n",
       "1           NaN                NaN  \n",
       "2           NaN                NaN  \n",
       "3           0.0               32.0  \n",
       "4           NaN                NaN  \n",
       "\n",
       "[5 rows x 30 columns]"
      ]
     },
     "execution_count": 5,
     "metadata": {},
     "output_type": "execute_result"
    }
   ],
   "source": [
    "# Display the header to show how the dataset looks like\n",
    "fltdata.head()"
   ]
  },
  {
   "cell_type": "code",
   "execution_count": 6,
   "metadata": {
    "collapsed": false
   },
   "outputs": [
    {
     "name": "stdout",
     "output_type": "stream",
     "text": [
      "Total data for the year 2008: 1936758\n",
      "Total data for non 2008 year: 0\n"
     ]
    }
   ],
   "source": [
    "#Verify if all the data is for the year 2008\n",
    "\n",
    "print 'Total data for the year 2008: {}'.format( len(fltdata[fltdata['Year'] == 2008]))\n",
    "print 'Total data for non 2008 year: {}' .format (len(fltdata[fltdata['Year'] != 2008]))"
   ]
  },
  {
   "cell_type": "code",
   "execution_count": 7,
   "metadata": {
    "collapsed": false,
    "scrolled": true
   },
   "outputs": [
    {
     "data": {
      "text/html": [
       "<div>\n",
       "<table border=\"1\" class=\"dataframe\">\n",
       "  <thead>\n",
       "    <tr style=\"text-align: right;\">\n",
       "      <th></th>\n",
       "      <th>ArrDelay</th>\n",
       "      <th>DepDelay</th>\n",
       "      <th>CarrierDelay</th>\n",
       "      <th>WeatherDelay</th>\n",
       "      <th>NASDelay</th>\n",
       "      <th>SecurityDelay</th>\n",
       "      <th>LateAircraftDelay</th>\n",
       "    </tr>\n",
       "  </thead>\n",
       "  <tbody>\n",
       "    <tr>\n",
       "      <th>0</th>\n",
       "      <td>-14.0</td>\n",
       "      <td>8.0</td>\n",
       "      <td>NaN</td>\n",
       "      <td>NaN</td>\n",
       "      <td>NaN</td>\n",
       "      <td>NaN</td>\n",
       "      <td>NaN</td>\n",
       "    </tr>\n",
       "    <tr>\n",
       "      <th>1</th>\n",
       "      <td>2.0</td>\n",
       "      <td>19.0</td>\n",
       "      <td>NaN</td>\n",
       "      <td>NaN</td>\n",
       "      <td>NaN</td>\n",
       "      <td>NaN</td>\n",
       "      <td>NaN</td>\n",
       "    </tr>\n",
       "    <tr>\n",
       "      <th>2</th>\n",
       "      <td>14.0</td>\n",
       "      <td>8.0</td>\n",
       "      <td>NaN</td>\n",
       "      <td>NaN</td>\n",
       "      <td>NaN</td>\n",
       "      <td>NaN</td>\n",
       "      <td>NaN</td>\n",
       "    </tr>\n",
       "    <tr>\n",
       "      <th>3</th>\n",
       "      <td>34.0</td>\n",
       "      <td>34.0</td>\n",
       "      <td>2.0</td>\n",
       "      <td>0.0</td>\n",
       "      <td>0.0</td>\n",
       "      <td>0.0</td>\n",
       "      <td>32.0</td>\n",
       "    </tr>\n",
       "    <tr>\n",
       "      <th>4</th>\n",
       "      <td>11.0</td>\n",
       "      <td>25.0</td>\n",
       "      <td>NaN</td>\n",
       "      <td>NaN</td>\n",
       "      <td>NaN</td>\n",
       "      <td>NaN</td>\n",
       "      <td>NaN</td>\n",
       "    </tr>\n",
       "  </tbody>\n",
       "</table>\n",
       "</div>"
      ],
      "text/plain": [
       "   ArrDelay  DepDelay  CarrierDelay  WeatherDelay  NASDelay  SecurityDelay  \\\n",
       "0     -14.0       8.0           NaN           NaN       NaN            NaN   \n",
       "1       2.0      19.0           NaN           NaN       NaN            NaN   \n",
       "2      14.0       8.0           NaN           NaN       NaN            NaN   \n",
       "3      34.0      34.0           2.0           0.0       0.0            0.0   \n",
       "4      11.0      25.0           NaN           NaN       NaN            NaN   \n",
       "\n",
       "   LateAircraftDelay  \n",
       "0                NaN  \n",
       "1                NaN  \n",
       "2                NaN  \n",
       "3               32.0  \n",
       "4                NaN  "
      ]
     },
     "execution_count": 7,
     "metadata": {},
     "output_type": "execute_result"
    }
   ],
   "source": [
    "#Print the header for different types of delay\n",
    "fltdata[['ArrDelay','DepDelay','CarrierDelay','WeatherDelay','NASDelay','SecurityDelay','LateAircraftDelay']].head()"
   ]
  },
  {
   "cell_type": "code",
   "execution_count": 8,
   "metadata": {
    "collapsed": false
   },
   "outputs": [
    {
     "name": "stdout",
     "output_type": "stream",
     "text": [
      "Length of original data set is : (1936758, 30) \n",
      "Reduced set of data size is : (100000, 30) \n"
     ]
    }
   ],
   "source": [
    "# Split the data to have limited data as train data since the data set is very large. \n",
    "# Using this only for analysis purpose and for model trainign would use the complete dataset.\n",
    "# Plotting graphs was too much time consuming with so much data so used a subset of that data.\n",
    "\n",
    "#X_train, X_test = train_test_split(fltdata, train_size=0.3)\n",
    "#print X_train.shape\n",
    "#print X_test.shape\n",
    "#data = X_train\n",
    "\n",
    "data = fltdata.sample(n=100000)\n",
    "print 'Length of original data set is : {} '.format(fltdata.shape)\n",
    "print 'Reduced set of data size is : {} '.format(data.shape)\n"
   ]
  },
  {
   "cell_type": "code",
   "execution_count": 9,
   "metadata": {
    "collapsed": false
   },
   "outputs": [
    {
     "data": {
      "text/plain": [
       "<seaborn.axisgrid.PairGrid at 0x132e7c850>"
      ]
     },
     "execution_count": 9,
     "metadata": {},
     "output_type": "execute_result"
    },
    {
     "data": {
      "image/png": "[encoded data removed]",
      "text/plain": [
       "<matplotlib.figure.Figure at 0x132e7ca10>"
      ]
     },
     "metadata": {},
     "output_type": "display_data"
    }
   ],
   "source": [
    "#Plot the Arrival Dealy to show which month has the maximum delay\n",
    "sns.pairplot(data, x_vars='Month', y_vars='ArrDelay', kind='scatter', size=6)"
   ]
  },
  {
   "cell_type": "code",
   "execution_count": 10,
   "metadata": {
    "collapsed": false
   },
   "outputs": [
    {
     "data": {
      "text/html": [
       "<div>\n",
       "<table border=\"1\" class=\"dataframe\">\n",
       "  <thead>\n",
       "    <tr style=\"text-align: right;\">\n",
       "      <th>Month</th>\n",
       "      <th>1</th>\n",
       "      <th>2</th>\n",
       "      <th>3</th>\n",
       "      <th>4</th>\n",
       "      <th>5</th>\n",
       "      <th>6</th>\n",
       "      <th>7</th>\n",
       "      <th>8</th>\n",
       "      <th>9</th>\n",
       "      <th>10</th>\n",
       "      <th>11</th>\n",
       "      <th>12</th>\n",
       "    </tr>\n",
       "    <tr>\n",
       "      <th>DayOfWeek</th>\n",
       "      <th></th>\n",
       "      <th></th>\n",
       "      <th></th>\n",
       "      <th></th>\n",
       "      <th></th>\n",
       "      <th></th>\n",
       "      <th></th>\n",
       "      <th></th>\n",
       "      <th></th>\n",
       "      <th></th>\n",
       "      <th></th>\n",
       "      <th></th>\n",
       "    </tr>\n",
       "  </thead>\n",
       "  <tbody>\n",
       "    <tr>\n",
       "      <th>1</th>\n",
       "      <td>1222</td>\n",
       "      <td>1454</td>\n",
       "      <td>1756</td>\n",
       "      <td>1053</td>\n",
       "      <td>1038</td>\n",
       "      <td>1685</td>\n",
       "      <td>1412</td>\n",
       "      <td>1199</td>\n",
       "      <td>928</td>\n",
       "      <td>704</td>\n",
       "      <td>617</td>\n",
       "      <td>1917</td>\n",
       "    </tr>\n",
       "    <tr>\n",
       "      <th>2</th>\n",
       "      <td>1530</td>\n",
       "      <td>1421</td>\n",
       "      <td>1203</td>\n",
       "      <td>1181</td>\n",
       "      <td>966</td>\n",
       "      <td>1300</td>\n",
       "      <td>1377</td>\n",
       "      <td>1069</td>\n",
       "      <td>705</td>\n",
       "      <td>580</td>\n",
       "      <td>565</td>\n",
       "      <td>1628</td>\n",
       "    </tr>\n",
       "    <tr>\n",
       "      <th>3</th>\n",
       "      <td>1420</td>\n",
       "      <td>1328</td>\n",
       "      <td>1302</td>\n",
       "      <td>1088</td>\n",
       "      <td>1095</td>\n",
       "      <td>1326</td>\n",
       "      <td>1429</td>\n",
       "      <td>957</td>\n",
       "      <td>514</td>\n",
       "      <td>789</td>\n",
       "      <td>635</td>\n",
       "      <td>1648</td>\n",
       "    </tr>\n",
       "    <tr>\n",
       "      <th>4</th>\n",
       "      <td>1785</td>\n",
       "      <td>1332</td>\n",
       "      <td>1294</td>\n",
       "      <td>1256</td>\n",
       "      <td>1412</td>\n",
       "      <td>1561</td>\n",
       "      <td>1616</td>\n",
       "      <td>1128</td>\n",
       "      <td>654</td>\n",
       "      <td>917</td>\n",
       "      <td>767</td>\n",
       "      <td>1238</td>\n",
       "    </tr>\n",
       "    <tr>\n",
       "      <th>5</th>\n",
       "      <td>1354</td>\n",
       "      <td>2104</td>\n",
       "      <td>1610</td>\n",
       "      <td>1537</td>\n",
       "      <td>1656</td>\n",
       "      <td>1588</td>\n",
       "      <td>1115</td>\n",
       "      <td>1605</td>\n",
       "      <td>890</td>\n",
       "      <td>1056</td>\n",
       "      <td>873</td>\n",
       "      <td>1402</td>\n",
       "    </tr>\n",
       "    <tr>\n",
       "      <th>6</th>\n",
       "      <td>901</td>\n",
       "      <td>888</td>\n",
       "      <td>1536</td>\n",
       "      <td>906</td>\n",
       "      <td>926</td>\n",
       "      <td>1149</td>\n",
       "      <td>962</td>\n",
       "      <td>1138</td>\n",
       "      <td>532</td>\n",
       "      <td>482</td>\n",
       "      <td>770</td>\n",
       "      <td>1235</td>\n",
       "    </tr>\n",
       "    <tr>\n",
       "      <th>7</th>\n",
       "      <td>1267</td>\n",
       "      <td>1302</td>\n",
       "      <td>1752</td>\n",
       "      <td>1108</td>\n",
       "      <td>803</td>\n",
       "      <td>1806</td>\n",
       "      <td>1383</td>\n",
       "      <td>1221</td>\n",
       "      <td>786</td>\n",
       "      <td>803</td>\n",
       "      <td>1236</td>\n",
       "      <td>1317</td>\n",
       "    </tr>\n",
       "  </tbody>\n",
       "</table>\n",
       "</div>"
      ],
      "text/plain": [
       "Month        1     2     3     4     5     6     7     8    9     10    11  \\\n",
       "DayOfWeek                                                                    \n",
       "1          1222  1454  1756  1053  1038  1685  1412  1199  928   704   617   \n",
       "2          1530  1421  1203  1181   966  1300  1377  1069  705   580   565   \n",
       "3          1420  1328  1302  1088  1095  1326  1429   957  514   789   635   \n",
       "4          1785  1332  1294  1256  1412  1561  1616  1128  654   917   767   \n",
       "5          1354  2104  1610  1537  1656  1588  1115  1605  890  1056   873   \n",
       "6           901   888  1536   906   926  1149   962  1138  532   482   770   \n",
       "7          1267  1302  1752  1108   803  1806  1383  1221  786   803  1236   \n",
       "\n",
       "Month        12  \n",
       "DayOfWeek        \n",
       "1          1917  \n",
       "2          1628  \n",
       "3          1648  \n",
       "4          1238  \n",
       "5          1402  \n",
       "6          1235  \n",
       "7          1317  "
      ]
     },
     "execution_count": 10,
     "metadata": {},
     "output_type": "execute_result"
    }
   ],
   "source": [
    "#cross tabulation of Day of Week and Month\n",
    "pd.crosstab(data.DayOfWeek,data.Month)"
   ]
  },
  {
   "cell_type": "code",
   "execution_count": 11,
   "metadata": {
    "collapsed": false
   },
   "outputs": [
    {
     "data": {
      "text/plain": [
       "<seaborn.axisgrid.PairGrid at 0x11644e8d0>"
      ]
     },
     "execution_count": 11,
     "metadata": {},
     "output_type": "execute_result"
    },
    {
     "data": {
      "image/png": "[encoded data removed]",
      "text/plain": [
       "<matplotlib.figure.Figure at 0x11644ec50>"
      ]
     },
     "metadata": {},
     "output_type": "display_data"
    }
   ],
   "source": [
    "#Plot the Arrival Dealy to show which Day of week has the maximum delay\n",
    "sns.pairplot(data, x_vars='DayOfWeek', y_vars='ArrDelay', kind='scatter', size=6)"
   ]
  },
  {
   "cell_type": "code",
   "execution_count": 12,
   "metadata": {
    "collapsed": false
   },
   "outputs": [
    {
     "data": {
      "text/plain": [
       "27040"
      ]
     },
     "execution_count": 12,
     "metadata": {},
     "output_type": "execute_result"
    }
   ],
   "source": [
    "#Count the number of flights which had on time arrival\n",
    "len(fltdata[fltdata['ArrDelay'] == 0])\n",
    "\n",
    "#len(fltdata[fltdata['Year'] == 2008]) "
   ]
  },
  {
   "cell_type": "code",
   "execution_count": 13,
   "metadata": {
    "collapsed": false
   },
   "outputs": [
    {
     "data": {
      "text/plain": [
       "1723415"
      ]
     },
     "execution_count": 13,
     "metadata": {},
     "output_type": "execute_result"
    }
   ],
   "source": [
    "#Count the number of flights which had late arrival\n",
    "len(fltdata[fltdata['ArrDelay'] > 0])"
   ]
  },
  {
   "cell_type": "code",
   "execution_count": 14,
   "metadata": {
    "collapsed": false
   },
   "outputs": [
    {
     "data": {
      "text/plain": [
       "177916"
      ]
     },
     "execution_count": 14,
     "metadata": {},
     "output_type": "execute_result"
    }
   ],
   "source": [
    "#Count the number of flights which were ahead of the arrival schedule\n",
    "len(fltdata[fltdata['ArrDelay'] < 0])"
   ]
  },
  {
   "cell_type": "code",
   "execution_count": 15,
   "metadata": {
    "collapsed": false
   },
   "outputs": [
    {
     "data": {
      "text/plain": [
       "2461.0"
      ]
     },
     "execution_count": 15,
     "metadata": {},
     "output_type": "execute_result"
    }
   ],
   "source": [
    "#What was the maximum delay in minutes\n",
    "fltdata['ArrDelay'].max()"
   ]
  },
  {
   "cell_type": "code",
   "execution_count": 16,
   "metadata": {
    "collapsed": false
   },
   "outputs": [
    {
     "data": {
      "text/plain": [
       "0"
      ]
     },
     "execution_count": 16,
     "metadata": {},
     "output_type": "execute_result"
    }
   ],
   "source": [
    "#Confirm that was the maximum delay\n",
    "len(fltdata[fltdata['ArrDelay'] > 2461])"
   ]
  },
  {
   "cell_type": "code",
   "execution_count": 17,
   "metadata": {
    "collapsed": false
   },
   "outputs": [
    {
     "data": {
      "text/plain": [
       "Unnamed: 0           1018798\n",
       "Year                    2008\n",
       "Month                      2\n",
       "DayofMonth                 3\n",
       "DayOfWeek                  7\n",
       "DepTime                 1117\n",
       "CRSDepTime              1820\n",
       "ArrTime                 2256\n",
       "CRSArrTime               555\n",
       "UniqueCarrier             NW\n",
       "FlightNum                808\n",
       "TailNum               N817NW\n",
       "ActualElapsedTime        459\n",
       "CRSElapsedTime           455\n",
       "AirTime                  437\n",
       "ArrDelay                2461\n",
       "DepDelay                2457\n",
       "Origin                   HNL\n",
       "Dest                     MSP\n",
       "Distance                3972\n",
       "TaxiIn                     6\n",
       "TaxiOut                   16\n",
       "Cancelled                  0\n",
       "CancellationCode           N\n",
       "Diverted                   0\n",
       "CarrierDelay            1455\n",
       "WeatherDelay               0\n",
       "NASDelay                   4\n",
       "SecurityDelay              0\n",
       "LateAircraftDelay       1002\n",
       "Name: 322516, dtype: object"
      ]
     },
     "execution_count": 17,
     "metadata": {},
     "output_type": "execute_result"
    }
   ],
   "source": [
    "#Print the row where there was maximum Flight Delay\n",
    "\n",
    "fltdata.loc[fltdata['ArrDelay'].argmax()]"
   ]
  },
  {
   "cell_type": "code",
   "execution_count": 18,
   "metadata": {
    "collapsed": false
   },
   "outputs": [
    {
     "data": {
      "text/plain": [
       "-109.0"
      ]
     },
     "execution_count": 18,
     "metadata": {},
     "output_type": "execute_result"
    }
   ],
   "source": [
    "#What was the earliest arrival time\n",
    "fltdata['ArrDelay'].min()"
   ]
  },
  {
   "cell_type": "code",
   "execution_count": 19,
   "metadata": {
    "collapsed": false
   },
   "outputs": [
    {
     "data": {
      "text/plain": [
       "0"
      ]
     },
     "execution_count": 19,
     "metadata": {},
     "output_type": "execute_result"
    }
   ],
   "source": [
    "#Confirm that was the earliest arrival time\n",
    "len(fltdata[fltdata['ArrDelay'] < -109])"
   ]
  },
  {
   "cell_type": "code",
   "execution_count": 20,
   "metadata": {
    "collapsed": false
   },
   "outputs": [
    {
     "data": {
      "text/plain": [
       "Unnamed: 0           3698229\n",
       "Year                    2008\n",
       "Month                      7\n",
       "DayofMonth                31\n",
       "DayOfWeek                  4\n",
       "DepTime                 1449\n",
       "CRSDepTime              1430\n",
       "ArrTime                 1331\n",
       "CRSArrTime              1520\n",
       "UniqueCarrier             WN\n",
       "FlightNum                987\n",
       "TailNum               N396SW\n",
       "ActualElapsedTime         42\n",
       "CRSElapsedTime           170\n",
       "AirTime                   29\n",
       "ArrDelay                -109\n",
       "DepDelay                  19\n",
       "Origin                   AUS\n",
       "Dest                     SAN\n",
       "Distance                1164\n",
       "TaxiIn                     3\n",
       "TaxiOut                   10\n",
       "Cancelled                  0\n",
       "CancellationCode           N\n",
       "Diverted                   0\n",
       "CarrierDelay             NaN\n",
       "WeatherDelay             NaN\n",
       "NASDelay                 NaN\n",
       "SecurityDelay            NaN\n",
       "LateAircraftDelay        NaN\n",
       "Name: 1110539, dtype: object"
      ]
     },
     "execution_count": 20,
     "metadata": {},
     "output_type": "execute_result"
    }
   ],
   "source": [
    "#Print the row with earliest arrival Flight\n",
    "\n",
    "fltdata.loc[fltdata['ArrDelay'].argmin()]"
   ]
  },
  {
   "cell_type": "code",
   "execution_count": 21,
   "metadata": {
    "collapsed": false
   },
   "outputs": [
    {
     "data": {
      "text/plain": [
       "array(['WN', 'US', 'XE', 'AA', 'UA', 'OO', '9E', 'YV', 'FL', 'MQ', 'AS',\n",
       "       'NW', 'DL', 'CO', 'HA', 'EV', 'AQ', 'F9', 'B6', 'OH'], dtype=object)"
      ]
     },
     "execution_count": 21,
     "metadata": {},
     "output_type": "execute_result"
    }
   ],
   "source": [
    "#What are the different carrier in the dataset?\n",
    "data.UniqueCarrier.unique()"
   ]
  },
  {
   "cell_type": "code",
   "execution_count": 22,
   "metadata": {
    "collapsed": false,
    "scrolled": true
   },
   "outputs": [
    {
     "data": {
      "text/plain": [
       "<matplotlib.axes._subplots.AxesSubplot at 0x1158c1f90>"
      ]
     },
     "execution_count": 22,
     "metadata": {},
     "output_type": "execute_result"
    },
    {
     "data": {
      "image/png": "[encoded data removed]",
      "text/plain": [
       "<matplotlib.figure.Figure at 0x11593f610>"
      ]
     },
     "metadata": {},
     "output_type": "display_data"
    }
   ],
   "source": [
    "#Plot the delay for each carrier\n",
    "sns.violinplot(x=data.UniqueCarrier,y=data.ArrDelay,)"
   ]
  },
  {
   "cell_type": "code",
   "execution_count": null,
   "metadata": {
    "collapsed": true
   },
   "outputs": [],
   "source": []
  }
 ],
 "metadata": {
  "anaconda-cloud": {},
  "kernelspec": {
   "display_name": "Python [default]",
   "language": "python",
   "name": "python2"
  },
  "language_info": {
   "codemirror_mode": {
    "name": "ipython",
    "version": 2
   },
   "file_extension": ".py",
   "mimetype": "text/x-python",
   "name": "python",
   "nbconvert_exporter": "python",
   "pygments_lexer": "ipython2",
   "version": "2.7.12"
  }
 },
 "nbformat": 4,
 "nbformat_minor": 0
}
