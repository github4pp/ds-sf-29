{
 "cells": [
  {
   "cell_type": "markdown",
   "metadata": {},
   "source": [
    "# Final Project4 - Modelling Performance - Predicting Airline Delay"
   ]
  },
  {
   "cell_type": "code",
   "execution_count": 2,
   "metadata": {
    "collapsed": false
   },
   "outputs": [],
   "source": [
    "import pandas as pd\n",
    "import numpy as np\n",
    "import matplotlib.pyplot as plt\n",
    "\n",
    "from sklearn.linear_model import LinearRegression\n",
    "from sklearn.cross_validation import train_test_split\n",
    "from sklearn import metrics\n",
    "import statsmodels.formula.api as smf\n",
    "\n",
    "from scipy import stats\n",
    "import seaborn as sns\n",
    "\n",
    "#This will render the plots inline\n",
    "%matplotlib inline"
   ]
  },
  {
   "cell_type": "code",
   "execution_count": 3,
   "metadata": {
    "collapsed": false
   },
   "outputs": [],
   "source": [
    "#Import the Airline Delay data in csv format\n",
    "fltdata = pd.read_csv('/Users/Prakash/GA/PROJECTS/airlinedelaycauses-DelayedFlights.csv')"
   ]
  },
  {
   "cell_type": "code",
   "execution_count": 4,
   "metadata": {
    "collapsed": false
   },
   "outputs": [
    {
     "data": {
      "text/plain": [
       "(1936758, 30)"
      ]
     },
     "execution_count": 4,
     "metadata": {},
     "output_type": "execute_result"
    }
   ],
   "source": [
    "#Check the Size of the data (How many Rows and Columns)\n",
    "fltdata.shape"
   ]
  },
  {
   "cell_type": "code",
   "execution_count": 5,
   "metadata": {
    "collapsed": false
   },
   "outputs": [
    {
     "data": {
      "text/html": [
       "<div>\n",
       "<table border=\"1\" class=\"dataframe\">\n",
       "  <thead>\n",
       "    <tr style=\"text-align: right;\">\n",
       "      <th></th>\n",
       "      <th>Unnamed: 0</th>\n",
       "      <th>Year</th>\n",
       "      <th>Month</th>\n",
       "      <th>DayofMonth</th>\n",
       "      <th>DayOfWeek</th>\n",
       "      <th>DepTime</th>\n",
       "      <th>CRSDepTime</th>\n",
       "      <th>ArrTime</th>\n",
       "      <th>CRSArrTime</th>\n",
       "      <th>UniqueCarrier</th>\n",
       "      <th>...</th>\n",
       "      <th>TaxiIn</th>\n",
       "      <th>TaxiOut</th>\n",
       "      <th>Cancelled</th>\n",
       "      <th>CancellationCode</th>\n",
       "      <th>Diverted</th>\n",
       "      <th>CarrierDelay</th>\n",
       "      <th>WeatherDelay</th>\n",
       "      <th>NASDelay</th>\n",
       "      <th>SecurityDelay</th>\n",
       "      <th>LateAircraftDelay</th>\n",
       "    </tr>\n",
       "  </thead>\n",
       "  <tbody>\n",
       "    <tr>\n",
       "      <th>0</th>\n",
       "      <td>0</td>\n",
       "      <td>2008</td>\n",
       "      <td>1</td>\n",
       "      <td>3</td>\n",
       "      <td>4</td>\n",
       "      <td>2003.0</td>\n",
       "      <td>1955</td>\n",
       "      <td>2211.0</td>\n",
       "      <td>2225</td>\n",
       "      <td>WN</td>\n",
       "      <td>...</td>\n",
       "      <td>4.0</td>\n",
       "      <td>8.0</td>\n",
       "      <td>0</td>\n",
       "      <td>N</td>\n",
       "      <td>0</td>\n",
       "      <td>NaN</td>\n",
       "      <td>NaN</td>\n",
       "      <td>NaN</td>\n",
       "      <td>NaN</td>\n",
       "      <td>NaN</td>\n",
       "    </tr>\n",
       "    <tr>\n",
       "      <th>1</th>\n",
       "      <td>1</td>\n",
       "      <td>2008</td>\n",
       "      <td>1</td>\n",
       "      <td>3</td>\n",
       "      <td>4</td>\n",
       "      <td>754.0</td>\n",
       "      <td>735</td>\n",
       "      <td>1002.0</td>\n",
       "      <td>1000</td>\n",
       "      <td>WN</td>\n",
       "      <td>...</td>\n",
       "      <td>5.0</td>\n",
       "      <td>10.0</td>\n",
       "      <td>0</td>\n",
       "      <td>N</td>\n",
       "      <td>0</td>\n",
       "      <td>NaN</td>\n",
       "      <td>NaN</td>\n",
       "      <td>NaN</td>\n",
       "      <td>NaN</td>\n",
       "      <td>NaN</td>\n",
       "    </tr>\n",
       "    <tr>\n",
       "      <th>2</th>\n",
       "      <td>2</td>\n",
       "      <td>2008</td>\n",
       "      <td>1</td>\n",
       "      <td>3</td>\n",
       "      <td>4</td>\n",
       "      <td>628.0</td>\n",
       "      <td>620</td>\n",
       "      <td>804.0</td>\n",
       "      <td>750</td>\n",
       "      <td>WN</td>\n",
       "      <td>...</td>\n",
       "      <td>3.0</td>\n",
       "      <td>17.0</td>\n",
       "      <td>0</td>\n",
       "      <td>N</td>\n",
       "      <td>0</td>\n",
       "      <td>NaN</td>\n",
       "      <td>NaN</td>\n",
       "      <td>NaN</td>\n",
       "      <td>NaN</td>\n",
       "      <td>NaN</td>\n",
       "    </tr>\n",
       "    <tr>\n",
       "      <th>3</th>\n",
       "      <td>4</td>\n",
       "      <td>2008</td>\n",
       "      <td>1</td>\n",
       "      <td>3</td>\n",
       "      <td>4</td>\n",
       "      <td>1829.0</td>\n",
       "      <td>1755</td>\n",
       "      <td>1959.0</td>\n",
       "      <td>1925</td>\n",
       "      <td>WN</td>\n",
       "      <td>...</td>\n",
       "      <td>3.0</td>\n",
       "      <td>10.0</td>\n",
       "      <td>0</td>\n",
       "      <td>N</td>\n",
       "      <td>0</td>\n",
       "      <td>2.0</td>\n",
       "      <td>0.0</td>\n",
       "      <td>0.0</td>\n",
       "      <td>0.0</td>\n",
       "      <td>32.0</td>\n",
       "    </tr>\n",
       "    <tr>\n",
       "      <th>4</th>\n",
       "      <td>5</td>\n",
       "      <td>2008</td>\n",
       "      <td>1</td>\n",
       "      <td>3</td>\n",
       "      <td>4</td>\n",
       "      <td>1940.0</td>\n",
       "      <td>1915</td>\n",
       "      <td>2121.0</td>\n",
       "      <td>2110</td>\n",
       "      <td>WN</td>\n",
       "      <td>...</td>\n",
       "      <td>4.0</td>\n",
       "      <td>10.0</td>\n",
       "      <td>0</td>\n",
       "      <td>N</td>\n",
       "      <td>0</td>\n",
       "      <td>NaN</td>\n",
       "      <td>NaN</td>\n",
       "      <td>NaN</td>\n",
       "      <td>NaN</td>\n",
       "      <td>NaN</td>\n",
       "    </tr>\n",
       "  </tbody>\n",
       "</table>\n",
       "<p>5 rows × 30 columns</p>\n",
       "</div>"
      ],
      "text/plain": [
       "   Unnamed: 0  Year  Month  DayofMonth  DayOfWeek  DepTime  CRSDepTime  \\\n",
       "0           0  2008      1           3          4   2003.0        1955   \n",
       "1           1  2008      1           3          4    754.0         735   \n",
       "2           2  2008      1           3          4    628.0         620   \n",
       "3           4  2008      1           3          4   1829.0        1755   \n",
       "4           5  2008      1           3          4   1940.0        1915   \n",
       "\n",
       "   ArrTime  CRSArrTime UniqueCarrier        ...          TaxiIn TaxiOut  \\\n",
       "0   2211.0        2225            WN        ...             4.0     8.0   \n",
       "1   1002.0        1000            WN        ...             5.0    10.0   \n",
       "2    804.0         750            WN        ...             3.0    17.0   \n",
       "3   1959.0        1925            WN        ...             3.0    10.0   \n",
       "4   2121.0        2110            WN        ...             4.0    10.0   \n",
       "\n",
       "   Cancelled  CancellationCode  Diverted  CarrierDelay  WeatherDelay NASDelay  \\\n",
       "0          0                 N         0           NaN           NaN      NaN   \n",
       "1          0                 N         0           NaN           NaN      NaN   \n",
       "2          0                 N         0           NaN           NaN      NaN   \n",
       "3          0                 N         0           2.0           0.0      0.0   \n",
       "4          0                 N         0           NaN           NaN      NaN   \n",
       "\n",
       "  SecurityDelay  LateAircraftDelay  \n",
       "0           NaN                NaN  \n",
       "1           NaN                NaN  \n",
       "2           NaN                NaN  \n",
       "3           0.0               32.0  \n",
       "4           NaN                NaN  \n",
       "\n",
       "[5 rows x 30 columns]"
      ]
     },
     "execution_count": 5,
     "metadata": {},
     "output_type": "execute_result"
    }
   ],
   "source": [
    "# Display the header to show how the dataset looks like\n",
    "fltdata.head()"
   ]
  },
  {
   "cell_type": "markdown",
   "metadata": {},
   "source": [
    "### Performing Data Clean up\n",
    "This is one of the important aspect of any analysis. Since this datset contains enough data so the starategy used here is to remive any row which has a blank/null value for any of the column"
   ]
  },
  {
   "cell_type": "code",
   "execution_count": 6,
   "metadata": {
    "collapsed": false
   },
   "outputs": [
    {
     "data": {
      "text/plain": [
       "Unnamed: 0                0\n",
       "Year                      0\n",
       "Month                     0\n",
       "DayofMonth                0\n",
       "DayOfWeek                 0\n",
       "DepTime                   0\n",
       "CRSDepTime                0\n",
       "ArrTime                7110\n",
       "CRSArrTime                0\n",
       "UniqueCarrier             0\n",
       "FlightNum                 0\n",
       "TailNum                   5\n",
       "ActualElapsedTime      8387\n",
       "CRSElapsedTime          198\n",
       "AirTime                8387\n",
       "ArrDelay               8387\n",
       "DepDelay                  0\n",
       "Origin                    0\n",
       "Dest                      0\n",
       "Distance                  0\n",
       "TaxiIn                 7110\n",
       "TaxiOut                 455\n",
       "Cancelled                 0\n",
       "CancellationCode          0\n",
       "Diverted                  0\n",
       "CarrierDelay         689270\n",
       "WeatherDelay         689270\n",
       "NASDelay             689270\n",
       "SecurityDelay        689270\n",
       "LateAircraftDelay    689270\n",
       "dtype: int64"
      ]
     },
     "execution_count": 6,
     "metadata": {},
     "output_type": "execute_result"
    }
   ],
   "source": [
    "# DATA CLEANUP -  Performing data cleanup - START\n",
    "# First Step - How many data points are null\n",
    "fltdata.isnull().sum()"
   ]
  },
  {
   "cell_type": "code",
   "execution_count": 7,
   "metadata": {
    "collapsed": false
   },
   "outputs": [
    {
     "data": {
      "text/plain": [
       "(1247486, 30)"
      ]
     },
     "execution_count": 7,
     "metadata": {},
     "output_type": "execute_result"
    }
   ],
   "source": [
    "# DATA CLEANUP - Drop the null values from the dataset - END CLEAN UP\n",
    "fltdata.dropna(how='any',inplace=True)\n",
    "\n",
    "#Print the size of the dataset post cleanup\n",
    "fltdata.shape"
   ]
  },
  {
   "cell_type": "markdown",
   "metadata": {},
   "source": [
    "### Columns which are decided to be considered for building the Model are\n",
    "1. Month\n",
    "2. DayofMonth\n",
    "3. DayOfWeek\n",
    "4. UniqueCarrier\n",
    "5. Origin\n",
    "6. Dest\n",
    "7. DepTime\n",
    "8. ArrTime\n",
    "\n",
    "### Let's take a closer look at what types of data each of these columns contain"
   ]
  },
  {
   "cell_type": "code",
   "execution_count": 8,
   "metadata": {
    "collapsed": false
   },
   "outputs": [
    {
     "name": "stdout",
     "output_type": "stream",
     "text": [
      "Total Options for Month : 12\n",
      "Unique Values for Month :[ 1  2  3  4  5  6  7  8  9 10 11 12]\n"
     ]
    }
   ],
   "source": [
    "print \"Total Options for Month : {}\" .format(len(fltdata.Month.sort_values().unique()))\n",
    "print \"Unique Values for Month :{}\".format(fltdata.Month.sort_values().unique())"
   ]
  },
  {
   "cell_type": "code",
   "execution_count": 9,
   "metadata": {
    "collapsed": false
   },
   "outputs": [
    {
     "name": "stdout",
     "output_type": "stream",
     "text": [
      "Total Options for DayofMonth : 31\n",
      "Unique Values for DayofMonth :[ 1  2  3  4  5  6  7  8  9 10 11 12 13 14 15 16 17 18 19 20 21 22 23 24 25\n",
      " 26 27 28 29 30 31]\n"
     ]
    }
   ],
   "source": [
    "print \"Total Options for DayofMonth : {}\" .format(len(fltdata.DayofMonth.sort_values().unique()))\n",
    "print \"Unique Values for DayofMonth :{}\".format(fltdata.DayofMonth.sort_values().unique())"
   ]
  },
  {
   "cell_type": "code",
   "execution_count": 10,
   "metadata": {
    "collapsed": false
   },
   "outputs": [
    {
     "name": "stdout",
     "output_type": "stream",
     "text": [
      "Total Options for DayOfWeek : 7\n",
      "Unique Values for DayOfWeek :[1 2 3 4 5 6 7]\n"
     ]
    }
   ],
   "source": [
    "print \"Total Options for DayOfWeek : {}\" .format(len(fltdata.DayOfWeek.sort_values().unique()))\n",
    "print \"Unique Values for DayOfWeek :{}\".format(fltdata.DayOfWeek.sort_values().unique())"
   ]
  },
  {
   "cell_type": "code",
   "execution_count": 11,
   "metadata": {
    "collapsed": false
   },
   "outputs": [
    {
     "name": "stdout",
     "output_type": "stream",
     "text": [
      "Total Options for UniqueCarrier : 20\n",
      "Unique Values for UniqueCarrier :['9E' 'AA' 'AQ' 'AS' 'B6' 'CO' 'DL' 'EV' 'F9' 'FL' 'HA' 'MQ' 'NW' 'OH' 'OO'\n",
      " 'UA' 'US' 'WN' 'XE' 'YV']\n"
     ]
    }
   ],
   "source": [
    "print \"Total Options for UniqueCarrier : {}\" .format(len(fltdata.UniqueCarrier.sort_values().unique()))\n",
    "print \"Unique Values for UniqueCarrier :{}\".format(fltdata.UniqueCarrier.sort_values().unique())"
   ]
  },
  {
   "cell_type": "code",
   "execution_count": 12,
   "metadata": {
    "collapsed": false
   },
   "outputs": [
    {
     "name": "stdout",
     "output_type": "stream",
     "text": [
      "Total Options for Origin : 302\n",
      "Unique Values for Origin :['ABE' 'ABI' 'ABQ' 'ABY' 'ACK' 'ACT' 'ACV' 'ACY' 'ADK' 'ADQ' 'AEX' 'AGS'\n",
      " 'AKN' 'ALB' 'ALO' 'AMA' 'ANC' 'ASE' 'ATL' 'ATW' 'AUS' 'AVL' 'AVP' 'AZO'\n",
      " 'BDL' 'BET' 'BFL' 'BGM' 'BGR' 'BHM' 'BIL' 'BIS' 'BJI' 'BLI' 'BMI' 'BNA'\n",
      " 'BOI' 'BOS' 'BPT' 'BQK' 'BQN' 'BRO' 'BRW' 'BTM' 'BTR' 'BTV' 'BUF' 'BUR'\n",
      " 'BWI' 'BZN' 'CAE' 'CAK' 'CDC' 'CDV' 'CEC' 'CHA' 'CHO' 'CHS' 'CIC' 'CID'\n",
      " 'CLD' 'CLE' 'CLL' 'CLT' 'CMH' 'CMI' 'CMX' 'COD' 'COS' 'CPR' 'CRP' 'CRW'\n",
      " 'CSG' 'CVG' 'CWA' 'DAB' 'DAL' 'DAY' 'DBQ' 'DCA' 'DEN' 'DFW' 'DHN' 'DLG'\n",
      " 'DLH' 'DRO' 'DSM' 'DTW' 'EGE' 'EKO' 'ELM' 'ELP' 'ERI' 'EUG' 'EVV' 'EWN'\n",
      " 'EWR' 'EYW' 'FAI' 'FAR' 'FAT' 'FAY' 'FCA' 'FLG' 'FLL' 'FLO' 'FNT' 'FSD'\n",
      " 'FSM' 'FWA' 'GCC' 'GEG' 'GFK' 'GGG' 'GJT' 'GNV' 'GPT' 'GRB' 'GRK' 'GRR'\n",
      " 'GSO' 'GSP' 'GST' 'GTF' 'GTR' 'GUC' 'HDN' 'HHH' 'HLN' 'HNL' 'HOU' 'HPN'\n",
      " 'HRL' 'HSV' 'HTS' 'IAD' 'IAH' 'ICT' 'IDA' 'ILM' 'IND' 'INL' 'IPL' 'ISP'\n",
      " 'ITH' 'ITO' 'IYK' 'JAC' 'JAN' 'JAX' 'JFK' 'JNU' 'KOA' 'KTN' 'LAN' 'LAS'\n",
      " 'LAW' 'LAX' 'LBB' 'LCH' 'LEX' 'LFT' 'LGA' 'LGB' 'LIH' 'LIT' 'LMT' 'LNK'\n",
      " 'LRD' 'LSE' 'LWB' 'LWS' 'LYH' 'MAF' 'MBS' 'MCI' 'MCN' 'MCO' 'MDT' 'MDW'\n",
      " 'MEI' 'MEM' 'MFE' 'MFR' 'MGM' 'MHT' 'MIA' 'MKE' 'MKG' 'MLB' 'MLI' 'MLU'\n",
      " 'MOB' 'MOD' 'MOT' 'MQT' 'MRY' 'MSN' 'MSO' 'MSP' 'MSY' 'MTJ' 'MYR' 'OAJ'\n",
      " 'OAK' 'OGG' 'OKC' 'OMA' 'OME' 'ONT' 'ORD' 'ORF' 'OTH' 'OTZ' 'OXR' 'PBI'\n",
      " 'PDX' 'PFN' 'PHF' 'PHL' 'PHX' 'PIA' 'PIH' 'PIR' 'PIT' 'PLN' 'PMD' 'PNS'\n",
      " 'PSC' 'PSE' 'PSG' 'PSP' 'PUB' 'PVD' 'PWM' 'RAP' 'RDD' 'RDM' 'RDU' 'RFD'\n",
      " 'RHI' 'RIC' 'RKS' 'RNO' 'ROA' 'ROC' 'ROW' 'RST' 'RSW' 'SAN' 'SAT' 'SAV'\n",
      " 'SBA' 'SBN' 'SBP' 'SCC' 'SCE' 'SDF' 'SEA' 'SFO' 'SGF' 'SGU' 'SHV' 'SIT'\n",
      " 'SJC' 'SJT' 'SJU' 'SLC' 'SLE' 'SMF' 'SMX' 'SNA' 'SPI' 'SPS' 'SRQ' 'STL'\n",
      " 'STT' 'STX' 'SUN' 'SUX' 'SWF' 'SYR' 'TEX' 'TLH' 'TOL' 'TPA' 'TRI' 'TUL'\n",
      " 'TUS' 'TVC' 'TWF' 'TXK' 'TYR' 'TYS' 'VLD' 'VPS' 'WRG' 'WYS' 'XNA' 'YAK'\n",
      " 'YKM' 'YUM']\n"
     ]
    }
   ],
   "source": [
    "print \"Total Options for Origin : {}\" .format(len(fltdata.Origin.sort_values().unique()))\n",
    "print \"Unique Values for Origin :{}\".format(fltdata.Origin.sort_values().unique())"
   ]
  },
  {
   "cell_type": "code",
   "execution_count": 13,
   "metadata": {
    "collapsed": false
   },
   "outputs": [
    {
     "name": "stdout",
     "output_type": "stream",
     "text": [
      "Total Options for Dest : 301\n",
      "Unique Values for Dest :['ABE' 'ABI' 'ABQ' 'ABY' 'ACK' 'ACT' 'ACV' 'ACY' 'ADK' 'ADQ' 'AEX' 'AGS'\n",
      " 'AKN' 'ALB' 'ALO' 'AMA' 'ANC' 'ASE' 'ATL' 'ATW' 'AUS' 'AVL' 'AVP' 'AZO'\n",
      " 'BDL' 'BET' 'BFL' 'BGM' 'BGR' 'BHM' 'BIL' 'BIS' 'BJI' 'BLI' 'BMI' 'BNA'\n",
      " 'BOI' 'BOS' 'BPT' 'BQK' 'BQN' 'BRO' 'BRW' 'BTM' 'BTR' 'BTV' 'BUF' 'BUR'\n",
      " 'BWI' 'BZN' 'CAE' 'CAK' 'CDC' 'CDV' 'CEC' 'CHA' 'CHO' 'CHS' 'CIC' 'CID'\n",
      " 'CLD' 'CLE' 'CLL' 'CLT' 'CMH' 'CMI' 'CMX' 'COD' 'COS' 'CPR' 'CRP' 'CRW'\n",
      " 'CSG' 'CVG' 'CWA' 'DAB' 'DAL' 'DAY' 'DBQ' 'DCA' 'DEN' 'DFW' 'DHN' 'DLG'\n",
      " 'DLH' 'DRO' 'DSM' 'DTW' 'EGE' 'EKO' 'ELM' 'ELP' 'ERI' 'EUG' 'EVV' 'EWN'\n",
      " 'EWR' 'EYW' 'FAI' 'FAR' 'FAT' 'FAY' 'FCA' 'FLG' 'FLL' 'FLO' 'FNT' 'FSD'\n",
      " 'FSM' 'FWA' 'GCC' 'GEG' 'GFK' 'GGG' 'GJT' 'GNV' 'GPT' 'GRB' 'GRK' 'GRR'\n",
      " 'GSO' 'GSP' 'GST' 'GTF' 'GTR' 'GUC' 'HDN' 'HHH' 'HLN' 'HNL' 'HOU' 'HPN'\n",
      " 'HRL' 'HSV' 'HTS' 'IAD' 'IAH' 'ICT' 'IDA' 'ILM' 'IND' 'INL' 'IPL' 'ISP'\n",
      " 'ITH' 'ITO' 'IYK' 'JAC' 'JAN' 'JAX' 'JFK' 'JNU' 'KOA' 'KTN' 'LAN' 'LAS'\n",
      " 'LAW' 'LAX' 'LBB' 'LCH' 'LEX' 'LFT' 'LGA' 'LGB' 'LIH' 'LIT' 'LMT' 'LNK'\n",
      " 'LRD' 'LSE' 'LWB' 'LWS' 'LYH' 'MAF' 'MBS' 'MCI' 'MCN' 'MCO' 'MDT' 'MDW'\n",
      " 'MEI' 'MEM' 'MFE' 'MFR' 'MGM' 'MHT' 'MIA' 'MKE' 'MKG' 'MLB' 'MLI' 'MLU'\n",
      " 'MOB' 'MOD' 'MOT' 'MQT' 'MRY' 'MSN' 'MSO' 'MSP' 'MSY' 'MTJ' 'MYR' 'OAJ'\n",
      " 'OAK' 'OGG' 'OKC' 'OMA' 'OME' 'ONT' 'ORD' 'ORF' 'OTH' 'OTZ' 'OXR' 'PBI'\n",
      " 'PDX' 'PFN' 'PHF' 'PHL' 'PHX' 'PIA' 'PIH' 'PIR' 'PIT' 'PLN' 'PMD' 'PNS'\n",
      " 'PSC' 'PSE' 'PSG' 'PSP' 'PVD' 'PWM' 'RAP' 'RDD' 'RDM' 'RDU' 'RFD' 'RHI'\n",
      " 'RIC' 'RKS' 'RNO' 'ROA' 'ROC' 'ROW' 'RST' 'RSW' 'SAN' 'SAT' 'SAV' 'SBA'\n",
      " 'SBN' 'SBP' 'SCC' 'SCE' 'SDF' 'SEA' 'SFO' 'SGF' 'SGU' 'SHV' 'SIT' 'SJC'\n",
      " 'SJT' 'SJU' 'SLC' 'SLE' 'SMF' 'SMX' 'SNA' 'SPI' 'SPS' 'SRQ' 'STL' 'STT'\n",
      " 'STX' 'SUN' 'SUX' 'SWF' 'SYR' 'TEX' 'TLH' 'TOL' 'TPA' 'TRI' 'TUL' 'TUS'\n",
      " 'TVC' 'TWF' 'TXK' 'TYR' 'TYS' 'VLD' 'VPS' 'WRG' 'WYS' 'XNA' 'YAK' 'YKM'\n",
      " 'YUM']\n"
     ]
    }
   ],
   "source": [
    "print \"Total Options for Dest : {}\" .format(len(fltdata.Dest.sort_values().unique()))\n",
    "print \"Unique Values for Dest :{}\".format(fltdata.Dest.sort_values().unique())"
   ]
  },
  {
   "cell_type": "code",
   "execution_count": 14,
   "metadata": {
    "collapsed": false
   },
   "outputs": [
    {
     "name": "stdout",
     "output_type": "stream",
     "text": [
      "Total Options for DepTime : 1435\n",
      "Size of the Original Data : (1247486, 30)\n"
     ]
    }
   ],
   "source": [
    "print \"Total Options for DepTime : {}\".format(len(fltdata.DepTime.sort_values().unique()))\n",
    "print \"Size of the Original Data : {}\".format(fltdata.shape)"
   ]
  },
  {
   "cell_type": "code",
   "execution_count": 15,
   "metadata": {
    "collapsed": false
   },
   "outputs": [
    {
     "name": "stdout",
     "output_type": "stream",
     "text": [
      "Total Options for ArrTime : 1440\n",
      "Size of the Original Data : (1247486, 30)\n"
     ]
    }
   ],
   "source": [
    "print \"Total Options for ArrTime : {}\".format(len(fltdata.ArrTime.sort_values().unique()))\n",
    "print \"Size of the Original Data : {}\".format(fltdata.shape)"
   ]
  },
  {
   "cell_type": "markdown",
   "metadata": {},
   "source": [
    "### Let's summarize what type of data each of these column contains\n",
    "\n",
    "| **Feature Name**   |**Feature Type**   |**Number of Options**   |\n",
    "| :------------ |:------------ | :------------|\n",
    "| Month   |Categorical   |12 (1-12)   |\n",
    "| DayOfMonth   |Categorical   |31 (1-31)   |\n",
    "| DayofWeek   |Categorical   |7 (1-7)   |\n",
    "| UniqueCarrier   |Categorical   |20 (1-20)   |\n",
    "| Origin   |Categorical   |302   |\n",
    "| Dest   |Categorical   |301 (1-12)   |\n",
    "| DepTime   |Continuous   |1435   |\n",
    "| ArrTime   |Continuous   |1440  |\n",
    "\n",
    "**Now that we know what type of data and range of data each of these variable contains let's analyze how we should build this model.**\n",
    "* As **DepTime** and **ArrTime** are **continuous** variables so we could train the model with these data without any issues.\n",
    "* When it comes to Categorical variables from a model building perspective we need to create **(n-1)** disctinct dummy variables for each of the categorical variables with **n** different options.\n",
    "* Considering the aspect of creating dummy variables the more the number of options the more number of dummy vairbales would be created and as such the model complexity increases. so let's analyze which among the above variables could be viable options.\n",
    "* **Month** has **12** options so its feasible \n",
    "* **DayofWeek** has **7** options so its feasible\n",
    "* **Carrier** is an important feature so we could create **20** dummy variables for carrier variable\n",
    "* **DayOfMonth** has **31** different options so it would need to create **30** distinct Dummy variables. Since we have already considered **Month** as a variable for training this model so we could avoid this variable.\n",
    "* **Origin** and **Dest** are the importat factor to predict Airline Delay so we need to have these values be used to train the model. However the challenging part if creating dummy variables for each of these unique values as there are **300+** disctinct Airports in this dataset.\n",
    "\n",
    "\n",
    "** So now the Question is - What do we do with Origin and Dest variables ?**\n",
    "\n",
    "* To make it simplified for the purpose of this Project let's further clean up the original dataset to include Top 10 busy Airports so that it would cover most of the Carrier operating our of these Airports. This is also keeping in view that we are building a **Linear Regression Model** to predict the Airline Delay.\n",
    "* Considering the fact that we are building a model to predict an Airline Delay we could consider including only top **Destination Airports** and **exclude** the **Origin Airports** from our original consideration of been a candidate for training the mode."
   ]
  },
  {
   "cell_type": "code",
   "execution_count": 16,
   "metadata": {
    "collapsed": false
   },
   "outputs": [
    {
     "data": {
      "text/plain": [
       "ORD    79626\n",
       "ATL    71607\n",
       "DFW    45964\n",
       "EWR    40873\n",
       "DEN    38613\n",
       "LAX    36402\n",
       "SFO    33073\n",
       "LAS    29647\n",
       "LGA    28345\n",
       "PHX    27337\n",
       "Name: Dest, dtype: int64"
      ]
     },
     "execution_count": 16,
     "metadata": {},
     "output_type": "execute_result"
    }
   ],
   "source": [
    "#Display the top 10 busy Destination Airports\n",
    "fltdata.Dest.value_counts()[:10]"
   ]
  },
  {
   "cell_type": "code",
   "execution_count": 17,
   "metadata": {
    "collapsed": false
   },
   "outputs": [
    {
     "name": "stdout",
     "output_type": "stream",
     "text": [
      "Size of original dataset : (1247486, 30)\n",
      "Size of filtered dataset : (431487, 30)\n"
     ]
    }
   ],
   "source": [
    "topbusyairports = fltdata[(fltdata.Dest == 'ORD') | (fltdata.Dest == 'ATL') | (fltdata.Dest == 'DFW') | \n",
    "                          (fltdata.Dest == 'EWR') | (fltdata.Dest == 'DEN') | (fltdata.Dest == 'LAX') | \n",
    "                          (fltdata.Dest == 'SFO') | (fltdata.Dest == 'LAS') | (fltdata.Dest == 'LGA') | \n",
    "                          (fltdata.Dest == 'PHX')]\n",
    "\n",
    "print \"Size of original dataset : {}\".format(fltdata.shape)\n",
    "print \"Size of filtered dataset : {}\".format(topbusyairports.shape)"
   ]
  },
  {
   "cell_type": "code",
   "execution_count": 18,
   "metadata": {
    "collapsed": false
   },
   "outputs": [
    {
     "name": "stdout",
     "output_type": "stream",
     "text": [
      "Total Options for Month : 12\n",
      "Unique Values for Month : [ 1  2  3  4  5  6  7  8  9 10 11 12]\n",
      "Total Options for DayOfWeek : 7\n",
      "Unique Values for DayOfWeek : [1 2 3 4 5 6 7]\n",
      "Total Options for UniqueCarrier : 20\n",
      "Unique Values for UniqueCarrier : ['9E' 'AA' 'AQ' 'AS' 'B6' 'CO' 'DL' 'EV' 'F9' 'FL' 'HA' 'MQ' 'NW' 'OH' 'OO'\n",
      " 'UA' 'US' 'WN' 'XE' 'YV']\n",
      "Total Options for Dest : 10\n",
      "Unique Values for Dest : ['ATL' 'DEN' 'DFW' 'EWR' 'LAS' 'LAX' 'LGA' 'ORD' 'PHX' 'SFO']\n"
     ]
    }
   ],
   "source": [
    "#Let's now make sure if the filtered dataset contains same set of values for each of the variables\n",
    "\n",
    "print \"Total Options for Month : {}\" .format(len(topbusyairports.Month.sort_values().unique()))\n",
    "print \"Unique Values for Month : {}\".format(topbusyairports.Month.sort_values().unique())\n",
    "\n",
    "print \"Total Options for DayOfWeek : {}\" .format(len(topbusyairports.DayOfWeek.sort_values().unique()))\n",
    "print \"Unique Values for DayOfWeek : {}\".format(topbusyairports.DayOfWeek.sort_values().unique())\n",
    "\n",
    "print \"Total Options for UniqueCarrier : {}\" .format(len(topbusyairports.UniqueCarrier.sort_values().unique()))\n",
    "print \"Unique Values for UniqueCarrier : {}\".format(topbusyairports.UniqueCarrier.sort_values().unique())\n",
    "\n",
    "print \"Total Options for Dest : {}\" .format(len(topbusyairports.Dest.sort_values().unique()))\n",
    "print \"Unique Values for Dest : {}\".format(topbusyairports.Dest.sort_values().unique())"
   ]
  },
  {
   "cell_type": "markdown",
   "metadata": {},
   "source": [
    "### Let's now sumaarize what are the factors we are considering for building our model\n",
    "\n",
    "1. Month\n",
    "2. DayOfWeek\n",
    "3. UniqueCarrier\n",
    "4. Dest\n",
    "5. DepTime\n",
    "6. ArrTime\n",
    "\n",
    "**Let's start creating the dummy variables for all Categorical variables and build the final dataset to be considered for model building**"
   ]
  },
  {
   "cell_type": "code",
   "execution_count": 19,
   "metadata": {
    "collapsed": false
   },
   "outputs": [
    {
     "data": {
      "text/html": [
       "<div>\n",
       "<table border=\"1\" class=\"dataframe\">\n",
       "  <thead>\n",
       "    <tr style=\"text-align: right;\">\n",
       "      <th></th>\n",
       "      <th>month_1</th>\n",
       "      <th>month_2</th>\n",
       "      <th>month_3</th>\n",
       "      <th>month_4</th>\n",
       "      <th>month_5</th>\n",
       "      <th>month_6</th>\n",
       "      <th>month_7</th>\n",
       "      <th>month_8</th>\n",
       "      <th>month_9</th>\n",
       "      <th>month_10</th>\n",
       "      <th>month_11</th>\n",
       "      <th>month_12</th>\n",
       "    </tr>\n",
       "  </thead>\n",
       "  <tbody>\n",
       "    <tr>\n",
       "      <th>5</th>\n",
       "      <td>1.0</td>\n",
       "      <td>0.0</td>\n",
       "      <td>0.0</td>\n",
       "      <td>0.0</td>\n",
       "      <td>0.0</td>\n",
       "      <td>0.0</td>\n",
       "      <td>0.0</td>\n",
       "      <td>0.0</td>\n",
       "      <td>0.0</td>\n",
       "      <td>0.0</td>\n",
       "      <td>0.0</td>\n",
       "      <td>0.0</td>\n",
       "    </tr>\n",
       "    <tr>\n",
       "      <th>9</th>\n",
       "      <td>1.0</td>\n",
       "      <td>0.0</td>\n",
       "      <td>0.0</td>\n",
       "      <td>0.0</td>\n",
       "      <td>0.0</td>\n",
       "      <td>0.0</td>\n",
       "      <td>0.0</td>\n",
       "      <td>0.0</td>\n",
       "      <td>0.0</td>\n",
       "      <td>0.0</td>\n",
       "      <td>0.0</td>\n",
       "      <td>0.0</td>\n",
       "    </tr>\n",
       "    <tr>\n",
       "      <th>79</th>\n",
       "      <td>1.0</td>\n",
       "      <td>0.0</td>\n",
       "      <td>0.0</td>\n",
       "      <td>0.0</td>\n",
       "      <td>0.0</td>\n",
       "      <td>0.0</td>\n",
       "      <td>0.0</td>\n",
       "      <td>0.0</td>\n",
       "      <td>0.0</td>\n",
       "      <td>0.0</td>\n",
       "      <td>0.0</td>\n",
       "      <td>0.0</td>\n",
       "    </tr>\n",
       "    <tr>\n",
       "      <th>80</th>\n",
       "      <td>1.0</td>\n",
       "      <td>0.0</td>\n",
       "      <td>0.0</td>\n",
       "      <td>0.0</td>\n",
       "      <td>0.0</td>\n",
       "      <td>0.0</td>\n",
       "      <td>0.0</td>\n",
       "      <td>0.0</td>\n",
       "      <td>0.0</td>\n",
       "      <td>0.0</td>\n",
       "      <td>0.0</td>\n",
       "      <td>0.0</td>\n",
       "    </tr>\n",
       "    <tr>\n",
       "      <th>81</th>\n",
       "      <td>1.0</td>\n",
       "      <td>0.0</td>\n",
       "      <td>0.0</td>\n",
       "      <td>0.0</td>\n",
       "      <td>0.0</td>\n",
       "      <td>0.0</td>\n",
       "      <td>0.0</td>\n",
       "      <td>0.0</td>\n",
       "      <td>0.0</td>\n",
       "      <td>0.0</td>\n",
       "      <td>0.0</td>\n",
       "      <td>0.0</td>\n",
       "    </tr>\n",
       "  </tbody>\n",
       "</table>\n",
       "</div>"
      ],
      "text/plain": [
       "    month_1  month_2  month_3  month_4  month_5  month_6  month_7  month_8  \\\n",
       "5       1.0      0.0      0.0      0.0      0.0      0.0      0.0      0.0   \n",
       "9       1.0      0.0      0.0      0.0      0.0      0.0      0.0      0.0   \n",
       "79      1.0      0.0      0.0      0.0      0.0      0.0      0.0      0.0   \n",
       "80      1.0      0.0      0.0      0.0      0.0      0.0      0.0      0.0   \n",
       "81      1.0      0.0      0.0      0.0      0.0      0.0      0.0      0.0   \n",
       "\n",
       "    month_9  month_10  month_11  month_12  \n",
       "5       0.0       0.0       0.0       0.0  \n",
       "9       0.0       0.0       0.0       0.0  \n",
       "79      0.0       0.0       0.0       0.0  \n",
       "80      0.0       0.0       0.0       0.0  \n",
       "81      0.0       0.0       0.0       0.0  "
      ]
     },
     "execution_count": 19,
     "metadata": {},
     "output_type": "execute_result"
    }
   ],
   "source": [
    "#Create Dummy variables for Month\n",
    "month_dummies = pd.get_dummies(topbusyairports.Month, prefix='month')\n",
    "month_dummies.head()"
   ]
  },
  {
   "cell_type": "code",
   "execution_count": 20,
   "metadata": {
    "collapsed": false
   },
   "outputs": [
    {
     "data": {
      "text/html": [
       "<div>\n",
       "<table border=\"1\" class=\"dataframe\">\n",
       "  <thead>\n",
       "    <tr style=\"text-align: right;\">\n",
       "      <th></th>\n",
       "      <th>dow_1</th>\n",
       "      <th>dow_2</th>\n",
       "      <th>dow_3</th>\n",
       "      <th>dow_4</th>\n",
       "      <th>dow_5</th>\n",
       "      <th>dow_6</th>\n",
       "      <th>dow_7</th>\n",
       "    </tr>\n",
       "  </thead>\n",
       "  <tbody>\n",
       "    <tr>\n",
       "      <th>5</th>\n",
       "      <td>0.0</td>\n",
       "      <td>0.0</td>\n",
       "      <td>0.0</td>\n",
       "      <td>1.0</td>\n",
       "      <td>0.0</td>\n",
       "      <td>0.0</td>\n",
       "      <td>0.0</td>\n",
       "    </tr>\n",
       "    <tr>\n",
       "      <th>9</th>\n",
       "      <td>0.0</td>\n",
       "      <td>0.0</td>\n",
       "      <td>0.0</td>\n",
       "      <td>1.0</td>\n",
       "      <td>0.0</td>\n",
       "      <td>0.0</td>\n",
       "      <td>0.0</td>\n",
       "    </tr>\n",
       "    <tr>\n",
       "      <th>79</th>\n",
       "      <td>0.0</td>\n",
       "      <td>0.0</td>\n",
       "      <td>0.0</td>\n",
       "      <td>1.0</td>\n",
       "      <td>0.0</td>\n",
       "      <td>0.0</td>\n",
       "      <td>0.0</td>\n",
       "    </tr>\n",
       "    <tr>\n",
       "      <th>80</th>\n",
       "      <td>0.0</td>\n",
       "      <td>0.0</td>\n",
       "      <td>0.0</td>\n",
       "      <td>1.0</td>\n",
       "      <td>0.0</td>\n",
       "      <td>0.0</td>\n",
       "      <td>0.0</td>\n",
       "    </tr>\n",
       "    <tr>\n",
       "      <th>81</th>\n",
       "      <td>0.0</td>\n",
       "      <td>0.0</td>\n",
       "      <td>0.0</td>\n",
       "      <td>1.0</td>\n",
       "      <td>0.0</td>\n",
       "      <td>0.0</td>\n",
       "      <td>0.0</td>\n",
       "    </tr>\n",
       "  </tbody>\n",
       "</table>\n",
       "</div>"
      ],
      "text/plain": [
       "    dow_1  dow_2  dow_3  dow_4  dow_5  dow_6  dow_7\n",
       "5     0.0    0.0    0.0    1.0    0.0    0.0    0.0\n",
       "9     0.0    0.0    0.0    1.0    0.0    0.0    0.0\n",
       "79    0.0    0.0    0.0    1.0    0.0    0.0    0.0\n",
       "80    0.0    0.0    0.0    1.0    0.0    0.0    0.0\n",
       "81    0.0    0.0    0.0    1.0    0.0    0.0    0.0"
      ]
     },
     "execution_count": 20,
     "metadata": {},
     "output_type": "execute_result"
    }
   ],
   "source": [
    "#Create Dummy variables for Day of Week\n",
    "dayofweek_dummies = pd.get_dummies(topbusyairports.DayOfWeek, prefix='dow')\n",
    "dayofweek_dummies.head()"
   ]
  },
  {
   "cell_type": "code",
   "execution_count": 21,
   "metadata": {
    "collapsed": false
   },
   "outputs": [
    {
     "data": {
      "text/html": [
       "<div>\n",
       "<table border=\"1\" class=\"dataframe\">\n",
       "  <thead>\n",
       "    <tr style=\"text-align: right;\">\n",
       "      <th></th>\n",
       "      <th>carrier_9E</th>\n",
       "      <th>carrier_AA</th>\n",
       "      <th>carrier_AQ</th>\n",
       "      <th>carrier_AS</th>\n",
       "      <th>carrier_B6</th>\n",
       "      <th>carrier_CO</th>\n",
       "      <th>carrier_DL</th>\n",
       "      <th>carrier_EV</th>\n",
       "      <th>carrier_F9</th>\n",
       "      <th>carrier_FL</th>\n",
       "      <th>carrier_HA</th>\n",
       "      <th>carrier_MQ</th>\n",
       "      <th>carrier_NW</th>\n",
       "      <th>carrier_OH</th>\n",
       "      <th>carrier_OO</th>\n",
       "      <th>carrier_UA</th>\n",
       "      <th>carrier_US</th>\n",
       "      <th>carrier_WN</th>\n",
       "      <th>carrier_XE</th>\n",
       "      <th>carrier_YV</th>\n",
       "    </tr>\n",
       "  </thead>\n",
       "  <tbody>\n",
       "    <tr>\n",
       "      <th>5</th>\n",
       "      <td>0.0</td>\n",
       "      <td>0.0</td>\n",
       "      <td>0.0</td>\n",
       "      <td>0.0</td>\n",
       "      <td>0.0</td>\n",
       "      <td>0.0</td>\n",
       "      <td>0.0</td>\n",
       "      <td>0.0</td>\n",
       "      <td>0.0</td>\n",
       "      <td>0.0</td>\n",
       "      <td>0.0</td>\n",
       "      <td>0.0</td>\n",
       "      <td>0.0</td>\n",
       "      <td>0.0</td>\n",
       "      <td>0.0</td>\n",
       "      <td>0.0</td>\n",
       "      <td>0.0</td>\n",
       "      <td>1.0</td>\n",
       "      <td>0.0</td>\n",
       "      <td>0.0</td>\n",
       "    </tr>\n",
       "    <tr>\n",
       "      <th>9</th>\n",
       "      <td>0.0</td>\n",
       "      <td>0.0</td>\n",
       "      <td>0.0</td>\n",
       "      <td>0.0</td>\n",
       "      <td>0.0</td>\n",
       "      <td>0.0</td>\n",
       "      <td>0.0</td>\n",
       "      <td>0.0</td>\n",
       "      <td>0.0</td>\n",
       "      <td>0.0</td>\n",
       "      <td>0.0</td>\n",
       "      <td>0.0</td>\n",
       "      <td>0.0</td>\n",
       "      <td>0.0</td>\n",
       "      <td>0.0</td>\n",
       "      <td>0.0</td>\n",
       "      <td>0.0</td>\n",
       "      <td>1.0</td>\n",
       "      <td>0.0</td>\n",
       "      <td>0.0</td>\n",
       "    </tr>\n",
       "    <tr>\n",
       "      <th>79</th>\n",
       "      <td>0.0</td>\n",
       "      <td>0.0</td>\n",
       "      <td>0.0</td>\n",
       "      <td>0.0</td>\n",
       "      <td>0.0</td>\n",
       "      <td>0.0</td>\n",
       "      <td>0.0</td>\n",
       "      <td>0.0</td>\n",
       "      <td>0.0</td>\n",
       "      <td>0.0</td>\n",
       "      <td>0.0</td>\n",
       "      <td>0.0</td>\n",
       "      <td>0.0</td>\n",
       "      <td>0.0</td>\n",
       "      <td>0.0</td>\n",
       "      <td>0.0</td>\n",
       "      <td>0.0</td>\n",
       "      <td>1.0</td>\n",
       "      <td>0.0</td>\n",
       "      <td>0.0</td>\n",
       "    </tr>\n",
       "    <tr>\n",
       "      <th>80</th>\n",
       "      <td>0.0</td>\n",
       "      <td>0.0</td>\n",
       "      <td>0.0</td>\n",
       "      <td>0.0</td>\n",
       "      <td>0.0</td>\n",
       "      <td>0.0</td>\n",
       "      <td>0.0</td>\n",
       "      <td>0.0</td>\n",
       "      <td>0.0</td>\n",
       "      <td>0.0</td>\n",
       "      <td>0.0</td>\n",
       "      <td>0.0</td>\n",
       "      <td>0.0</td>\n",
       "      <td>0.0</td>\n",
       "      <td>0.0</td>\n",
       "      <td>0.0</td>\n",
       "      <td>0.0</td>\n",
       "      <td>1.0</td>\n",
       "      <td>0.0</td>\n",
       "      <td>0.0</td>\n",
       "    </tr>\n",
       "    <tr>\n",
       "      <th>81</th>\n",
       "      <td>0.0</td>\n",
       "      <td>0.0</td>\n",
       "      <td>0.0</td>\n",
       "      <td>0.0</td>\n",
       "      <td>0.0</td>\n",
       "      <td>0.0</td>\n",
       "      <td>0.0</td>\n",
       "      <td>0.0</td>\n",
       "      <td>0.0</td>\n",
       "      <td>0.0</td>\n",
       "      <td>0.0</td>\n",
       "      <td>0.0</td>\n",
       "      <td>0.0</td>\n",
       "      <td>0.0</td>\n",
       "      <td>0.0</td>\n",
       "      <td>0.0</td>\n",
       "      <td>0.0</td>\n",
       "      <td>1.0</td>\n",
       "      <td>0.0</td>\n",
       "      <td>0.0</td>\n",
       "    </tr>\n",
       "  </tbody>\n",
       "</table>\n",
       "</div>"
      ],
      "text/plain": [
       "    carrier_9E  carrier_AA  carrier_AQ  carrier_AS  carrier_B6  carrier_CO  \\\n",
       "5          0.0         0.0         0.0         0.0         0.0         0.0   \n",
       "9          0.0         0.0         0.0         0.0         0.0         0.0   \n",
       "79         0.0         0.0         0.0         0.0         0.0         0.0   \n",
       "80         0.0         0.0         0.0         0.0         0.0         0.0   \n",
       "81         0.0         0.0         0.0         0.0         0.0         0.0   \n",
       "\n",
       "    carrier_DL  carrier_EV  carrier_F9  carrier_FL  carrier_HA  carrier_MQ  \\\n",
       "5          0.0         0.0         0.0         0.0         0.0         0.0   \n",
       "9          0.0         0.0         0.0         0.0         0.0         0.0   \n",
       "79         0.0         0.0         0.0         0.0         0.0         0.0   \n",
       "80         0.0         0.0         0.0         0.0         0.0         0.0   \n",
       "81         0.0         0.0         0.0         0.0         0.0         0.0   \n",
       "\n",
       "    carrier_NW  carrier_OH  carrier_OO  carrier_UA  carrier_US  carrier_WN  \\\n",
       "5          0.0         0.0         0.0         0.0         0.0         1.0   \n",
       "9          0.0         0.0         0.0         0.0         0.0         1.0   \n",
       "79         0.0         0.0         0.0         0.0         0.0         1.0   \n",
       "80         0.0         0.0         0.0         0.0         0.0         1.0   \n",
       "81         0.0         0.0         0.0         0.0         0.0         1.0   \n",
       "\n",
       "    carrier_XE  carrier_YV  \n",
       "5          0.0         0.0  \n",
       "9          0.0         0.0  \n",
       "79         0.0         0.0  \n",
       "80         0.0         0.0  \n",
       "81         0.0         0.0  "
      ]
     },
     "execution_count": 21,
     "metadata": {},
     "output_type": "execute_result"
    }
   ],
   "source": [
    "#Create Dummy variables for Unique Carrier\n",
    "carrier_dummies = pd.get_dummies(topbusyairports.UniqueCarrier, prefix='carrier')\n",
    "carrier_dummies.head()"
   ]
  },
  {
   "cell_type": "code",
   "execution_count": 22,
   "metadata": {
    "collapsed": false
   },
   "outputs": [
    {
     "data": {
      "text/html": [
       "<div>\n",
       "<table border=\"1\" class=\"dataframe\">\n",
       "  <thead>\n",
       "    <tr style=\"text-align: right;\">\n",
       "      <th></th>\n",
       "      <th>airport_ATL</th>\n",
       "      <th>airport_DEN</th>\n",
       "      <th>airport_DFW</th>\n",
       "      <th>airport_EWR</th>\n",
       "      <th>airport_LAS</th>\n",
       "      <th>airport_LAX</th>\n",
       "      <th>airport_LGA</th>\n",
       "      <th>airport_ORD</th>\n",
       "      <th>airport_PHX</th>\n",
       "      <th>airport_SFO</th>\n",
       "    </tr>\n",
       "  </thead>\n",
       "  <tbody>\n",
       "    <tr>\n",
       "      <th>5</th>\n",
       "      <td>0.0</td>\n",
       "      <td>0.0</td>\n",
       "      <td>0.0</td>\n",
       "      <td>0.0</td>\n",
       "      <td>1.0</td>\n",
       "      <td>0.0</td>\n",
       "      <td>0.0</td>\n",
       "      <td>0.0</td>\n",
       "      <td>0.0</td>\n",
       "      <td>0.0</td>\n",
       "    </tr>\n",
       "    <tr>\n",
       "      <th>9</th>\n",
       "      <td>0.0</td>\n",
       "      <td>0.0</td>\n",
       "      <td>0.0</td>\n",
       "      <td>0.0</td>\n",
       "      <td>0.0</td>\n",
       "      <td>0.0</td>\n",
       "      <td>0.0</td>\n",
       "      <td>0.0</td>\n",
       "      <td>1.0</td>\n",
       "      <td>0.0</td>\n",
       "    </tr>\n",
       "    <tr>\n",
       "      <th>79</th>\n",
       "      <td>0.0</td>\n",
       "      <td>1.0</td>\n",
       "      <td>0.0</td>\n",
       "      <td>0.0</td>\n",
       "      <td>0.0</td>\n",
       "      <td>0.0</td>\n",
       "      <td>0.0</td>\n",
       "      <td>0.0</td>\n",
       "      <td>0.0</td>\n",
       "      <td>0.0</td>\n",
       "    </tr>\n",
       "    <tr>\n",
       "      <th>80</th>\n",
       "      <td>0.0</td>\n",
       "      <td>1.0</td>\n",
       "      <td>0.0</td>\n",
       "      <td>0.0</td>\n",
       "      <td>0.0</td>\n",
       "      <td>0.0</td>\n",
       "      <td>0.0</td>\n",
       "      <td>0.0</td>\n",
       "      <td>0.0</td>\n",
       "      <td>0.0</td>\n",
       "    </tr>\n",
       "    <tr>\n",
       "      <th>81</th>\n",
       "      <td>0.0</td>\n",
       "      <td>1.0</td>\n",
       "      <td>0.0</td>\n",
       "      <td>0.0</td>\n",
       "      <td>0.0</td>\n",
       "      <td>0.0</td>\n",
       "      <td>0.0</td>\n",
       "      <td>0.0</td>\n",
       "      <td>0.0</td>\n",
       "      <td>0.0</td>\n",
       "    </tr>\n",
       "  </tbody>\n",
       "</table>\n",
       "</div>"
      ],
      "text/plain": [
       "    airport_ATL  airport_DEN  airport_DFW  airport_EWR  airport_LAS  \\\n",
       "5           0.0          0.0          0.0          0.0          1.0   \n",
       "9           0.0          0.0          0.0          0.0          0.0   \n",
       "79          0.0          1.0          0.0          0.0          0.0   \n",
       "80          0.0          1.0          0.0          0.0          0.0   \n",
       "81          0.0          1.0          0.0          0.0          0.0   \n",
       "\n",
       "    airport_LAX  airport_LGA  airport_ORD  airport_PHX  airport_SFO  \n",
       "5           0.0          0.0          0.0          0.0          0.0  \n",
       "9           0.0          0.0          0.0          1.0          0.0  \n",
       "79          0.0          0.0          0.0          0.0          0.0  \n",
       "80          0.0          0.0          0.0          0.0          0.0  \n",
       "81          0.0          0.0          0.0          0.0          0.0  "
      ]
     },
     "execution_count": 22,
     "metadata": {},
     "output_type": "execute_result"
    }
   ],
   "source": [
    "#Create Dummy variables for Destination Airports\n",
    "destairport_dummies = pd.get_dummies(topbusyairports.Dest, prefix='airport')\n",
    "destairport_dummies.head()"
   ]
  },
  {
   "cell_type": "markdown",
   "metadata": {},
   "source": [
    "### Let's now drop one column from each dummy datset as we need (n-1) dummy variables for a categorical variable with n number of options\n"
   ]
  },
  {
   "cell_type": "code",
   "execution_count": 23,
   "metadata": {
    "collapsed": false
   },
   "outputs": [],
   "source": [
    "#Drop the first Column from Month Dummies\n",
    "month_dummies.drop(month_dummies.columns[0], axis=1, inplace=True)\n",
    "#month_dummies.head()\n",
    "\n",
    "#Drop the first Column from Day of Week Dummies\n",
    "dayofweek_dummies.drop(dayofweek_dummies.columns[0], axis=1, inplace=True)\n",
    "#dayofweek_dummies.head()\n",
    "\n",
    "#Drop the first Column from Unique Carrier Dummies\n",
    "carrier_dummies.drop(carrier_dummies.columns[0], axis=1, inplace=True)\n",
    "#carrier_dummies.head()\n",
    "\n",
    "#Drop the first Column from Dest Dummies\n",
    "destairport_dummies.drop(destairport_dummies.columns[0], axis=1, inplace=True)\n",
    "#destairport_dummies.head()"
   ]
  },
  {
   "cell_type": "code",
   "execution_count": 24,
   "metadata": {
    "collapsed": false
   },
   "outputs": [
    {
     "data": {
      "text/html": [
       "<div>\n",
       "<table border=\"1\" class=\"dataframe\">\n",
       "  <thead>\n",
       "    <tr style=\"text-align: right;\">\n",
       "      <th></th>\n",
       "      <th>ArrDelay</th>\n",
       "      <th>DepTime</th>\n",
       "      <th>ArrTime</th>\n",
       "      <th>month_2</th>\n",
       "      <th>month_3</th>\n",
       "      <th>month_4</th>\n",
       "      <th>month_5</th>\n",
       "      <th>month_6</th>\n",
       "      <th>month_7</th>\n",
       "      <th>month_8</th>\n",
       "      <th>...</th>\n",
       "      <th>carrier_YV</th>\n",
       "      <th>airport_DEN</th>\n",
       "      <th>airport_DFW</th>\n",
       "      <th>airport_EWR</th>\n",
       "      <th>airport_LAS</th>\n",
       "      <th>airport_LAX</th>\n",
       "      <th>airport_LGA</th>\n",
       "      <th>airport_ORD</th>\n",
       "      <th>airport_PHX</th>\n",
       "      <th>airport_SFO</th>\n",
       "    </tr>\n",
       "  </thead>\n",
       "  <tbody>\n",
       "    <tr>\n",
       "      <th>5</th>\n",
       "      <td>57.0</td>\n",
       "      <td>1937.0</td>\n",
       "      <td>2037.0</td>\n",
       "      <td>0.0</td>\n",
       "      <td>0.0</td>\n",
       "      <td>0.0</td>\n",
       "      <td>0.0</td>\n",
       "      <td>0.0</td>\n",
       "      <td>0.0</td>\n",
       "      <td>0.0</td>\n",
       "      <td>...</td>\n",
       "      <td>0.0</td>\n",
       "      <td>0.0</td>\n",
       "      <td>0.0</td>\n",
       "      <td>0.0</td>\n",
       "      <td>1.0</td>\n",
       "      <td>0.0</td>\n",
       "      <td>0.0</td>\n",
       "      <td>0.0</td>\n",
       "      <td>0.0</td>\n",
       "      <td>0.0</td>\n",
       "    </tr>\n",
       "    <tr>\n",
       "      <th>9</th>\n",
       "      <td>15.0</td>\n",
       "      <td>1452.0</td>\n",
       "      <td>1640.0</td>\n",
       "      <td>0.0</td>\n",
       "      <td>0.0</td>\n",
       "      <td>0.0</td>\n",
       "      <td>0.0</td>\n",
       "      <td>0.0</td>\n",
       "      <td>0.0</td>\n",
       "      <td>0.0</td>\n",
       "      <td>...</td>\n",
       "      <td>0.0</td>\n",
       "      <td>0.0</td>\n",
       "      <td>0.0</td>\n",
       "      <td>0.0</td>\n",
       "      <td>0.0</td>\n",
       "      <td>0.0</td>\n",
       "      <td>0.0</td>\n",
       "      <td>0.0</td>\n",
       "      <td>1.0</td>\n",
       "      <td>0.0</td>\n",
       "    </tr>\n",
       "    <tr>\n",
       "      <th>79</th>\n",
       "      <td>63.0</td>\n",
       "      <td>2232.0</td>\n",
       "      <td>108.0</td>\n",
       "      <td>0.0</td>\n",
       "      <td>0.0</td>\n",
       "      <td>0.0</td>\n",
       "      <td>0.0</td>\n",
       "      <td>0.0</td>\n",
       "      <td>0.0</td>\n",
       "      <td>0.0</td>\n",
       "      <td>...</td>\n",
       "      <td>0.0</td>\n",
       "      <td>1.0</td>\n",
       "      <td>0.0</td>\n",
       "      <td>0.0</td>\n",
       "      <td>0.0</td>\n",
       "      <td>0.0</td>\n",
       "      <td>0.0</td>\n",
       "      <td>0.0</td>\n",
       "      <td>0.0</td>\n",
       "      <td>0.0</td>\n",
       "    </tr>\n",
       "    <tr>\n",
       "      <th>80</th>\n",
       "      <td>112.0</td>\n",
       "      <td>1512.0</td>\n",
       "      <td>1802.0</td>\n",
       "      <td>0.0</td>\n",
       "      <td>0.0</td>\n",
       "      <td>0.0</td>\n",
       "      <td>0.0</td>\n",
       "      <td>0.0</td>\n",
       "      <td>0.0</td>\n",
       "      <td>0.0</td>\n",
       "      <td>...</td>\n",
       "      <td>0.0</td>\n",
       "      <td>1.0</td>\n",
       "      <td>0.0</td>\n",
       "      <td>0.0</td>\n",
       "      <td>0.0</td>\n",
       "      <td>0.0</td>\n",
       "      <td>0.0</td>\n",
       "      <td>0.0</td>\n",
       "      <td>0.0</td>\n",
       "      <td>0.0</td>\n",
       "    </tr>\n",
       "    <tr>\n",
       "      <th>81</th>\n",
       "      <td>16.0</td>\n",
       "      <td>2025.0</td>\n",
       "      <td>2301.0</td>\n",
       "      <td>0.0</td>\n",
       "      <td>0.0</td>\n",
       "      <td>0.0</td>\n",
       "      <td>0.0</td>\n",
       "      <td>0.0</td>\n",
       "      <td>0.0</td>\n",
       "      <td>0.0</td>\n",
       "      <td>...</td>\n",
       "      <td>0.0</td>\n",
       "      <td>1.0</td>\n",
       "      <td>0.0</td>\n",
       "      <td>0.0</td>\n",
       "      <td>0.0</td>\n",
       "      <td>0.0</td>\n",
       "      <td>0.0</td>\n",
       "      <td>0.0</td>\n",
       "      <td>0.0</td>\n",
       "      <td>0.0</td>\n",
       "    </tr>\n",
       "  </tbody>\n",
       "</table>\n",
       "<p>5 rows × 48 columns</p>\n",
       "</div>"
      ],
      "text/plain": [
       "    ArrDelay  DepTime  ArrTime  month_2  month_3  month_4  month_5  month_6  \\\n",
       "5       57.0   1937.0   2037.0      0.0      0.0      0.0      0.0      0.0   \n",
       "9       15.0   1452.0   1640.0      0.0      0.0      0.0      0.0      0.0   \n",
       "79      63.0   2232.0    108.0      0.0      0.0      0.0      0.0      0.0   \n",
       "80     112.0   1512.0   1802.0      0.0      0.0      0.0      0.0      0.0   \n",
       "81      16.0   2025.0   2301.0      0.0      0.0      0.0      0.0      0.0   \n",
       "\n",
       "    month_7  month_8     ...       carrier_YV  airport_DEN  airport_DFW  \\\n",
       "5       0.0      0.0     ...              0.0          0.0          0.0   \n",
       "9       0.0      0.0     ...              0.0          0.0          0.0   \n",
       "79      0.0      0.0     ...              0.0          1.0          0.0   \n",
       "80      0.0      0.0     ...              0.0          1.0          0.0   \n",
       "81      0.0      0.0     ...              0.0          1.0          0.0   \n",
       "\n",
       "    airport_EWR  airport_LAS  airport_LAX  airport_LGA  airport_ORD  \\\n",
       "5           0.0          1.0          0.0          0.0          0.0   \n",
       "9           0.0          0.0          0.0          0.0          0.0   \n",
       "79          0.0          0.0          0.0          0.0          0.0   \n",
       "80          0.0          0.0          0.0          0.0          0.0   \n",
       "81          0.0          0.0          0.0          0.0          0.0   \n",
       "\n",
       "    airport_PHX  airport_SFO  \n",
       "5           0.0          0.0  \n",
       "9           1.0          0.0  \n",
       "79          0.0          0.0  \n",
       "80          0.0          0.0  \n",
       "81          0.0          0.0  \n",
       "\n",
       "[5 rows x 48 columns]"
      ]
     },
     "execution_count": 24,
     "metadata": {},
     "output_type": "execute_result"
    }
   ],
   "source": [
    "#Concatenate the dummy dataset with original dataset\n",
    "\n",
    "#Create a new dataset arrdelaydata which contains only the required columns from original dataset for model building\n",
    "\n",
    "#Concatenate the Months dummy variables to arrdelaydata dataset (11)\n",
    "cols_to_keep = ['ArrDelay','DepTime', 'ArrTime']\n",
    "arrdelaydata = topbusyairports[cols_to_keep].join(month_dummies.ix[:, 'month_2':])\n",
    "\n",
    "\n",
    "#Concatenate the Day of Week dummy variables to arrdelaydata dataset (6)\n",
    "arrdelaydata = pd.concat([arrdelaydata, dayofweek_dummies], axis=1)\n",
    "\n",
    "#Concatenate the Unique Carrier dummy variables to arrdelaydata dataset (19)\n",
    "arrdelaydata = pd.concat([arrdelaydata, carrier_dummies], axis=1)\n",
    "\n",
    "#Concatenate the Dest dummy variables to arrdelaydata dataset (9)\n",
    "arrdelaydata = pd.concat([arrdelaydata, destairport_dummies], axis=1)\n",
    "arrdelaydata.head()"
   ]
  },
  {
   "cell_type": "code",
   "execution_count": 25,
   "metadata": {
    "collapsed": false
   },
   "outputs": [
    {
     "name": "stdout",
     "output_type": "stream",
     "text": [
      "Total number of columns in the arrdelaydata datset is : 48\n"
     ]
    }
   ],
   "source": [
    "#Verify the total number of columns in the new dataset\n",
    "print \"Total number of columns in the arrdelaydata datset is : {}\".format(len(arrdelaydata.columns.unique()))"
   ]
  },
  {
   "cell_type": "code",
   "execution_count": 26,
   "metadata": {
    "collapsed": false
   },
   "outputs": [],
   "source": [
    "#lm = smf.ols(formula='ArrDelay ~ C(Month, DayOfWeek, UniqueCarrier) + DepTime + ArrTime', data=topbusyairports).fit()\n",
    "\n",
    "lm = smf.ols(formula='ArrDelay ~ DepTime + ArrTime + Month + DayOfWeek + UniqueCarrier', data=topbusyairports).fit()"
   ]
  },
  {
   "cell_type": "code",
   "execution_count": 27,
   "metadata": {
    "collapsed": false
   },
   "outputs": [
    {
     "data": {
      "text/html": [
       "<table class=\"simpletable\">\n",
       "<caption>OLS Regression Results</caption>\n",
       "<tr>\n",
       "  <th>Dep. Variable:</th>        <td>ArrDelay</td>     <th>  R-squared:         </th>  <td>   0.043</td>  \n",
       "</tr>\n",
       "<tr>\n",
       "  <th>Model:</th>                   <td>OLS</td>       <th>  Adj. R-squared:    </th>  <td>   0.043</td>  \n",
       "</tr>\n",
       "<tr>\n",
       "  <th>Method:</th>             <td>Least Squares</td>  <th>  F-statistic:       </th>  <td>   835.9</td>  \n",
       "</tr>\n",
       "<tr>\n",
       "  <th>Date:</th>             <td>Mon, 23 Jan 2017</td> <th>  Prob (F-statistic):</th>   <td>  0.00</td>   \n",
       "</tr>\n",
       "<tr>\n",
       "  <th>Time:</th>                 <td>18:29:28</td>     <th>  Log-Likelihood:    </th> <td>-2.4054e+06</td>\n",
       "</tr>\n",
       "<tr>\n",
       "  <th>No. Observations:</th>      <td>431487</td>      <th>  AIC:               </th>  <td>4.811e+06</td> \n",
       "</tr>\n",
       "<tr>\n",
       "  <th>Df Residuals:</th>          <td>431463</td>      <th>  BIC:               </th>  <td>4.811e+06</td> \n",
       "</tr>\n",
       "<tr>\n",
       "  <th>Df Model:</th>              <td>    23</td>      <th>                     </th>      <td> </td>     \n",
       "</tr>\n",
       "<tr>\n",
       "  <th>Covariance Type:</th>      <td>nonrobust</td>    <th>                     </th>      <td> </td>     \n",
       "</tr>\n",
       "</table>\n",
       "<table class=\"simpletable\">\n",
       "<tr>\n",
       "           <td></td>              <th>coef</th>     <th>std err</th>      <th>t</th>      <th>P>|t|</th> <th>[95.0% Conf. Int.]</th> \n",
       "</tr>\n",
       "<tr>\n",
       "  <th>Intercept</th>           <td>   46.8155</td> <td>    1.446</td> <td>   32.378</td> <td> 0.000</td> <td>   43.982    49.649</td>\n",
       "</tr>\n",
       "<tr>\n",
       "  <th>UniqueCarrier[T.AA]</th> <td>   -2.1200</td> <td>    1.392</td> <td>   -1.523</td> <td> 0.128</td> <td>   -4.848     0.608</td>\n",
       "</tr>\n",
       "<tr>\n",
       "  <th>UniqueCarrier[T.AQ]</th> <td>  -30.5587</td> <td>   19.288</td> <td>   -1.584</td> <td> 0.113</td> <td>  -68.363     7.245</td>\n",
       "</tr>\n",
       "<tr>\n",
       "  <th>UniqueCarrier[T.AS]</th> <td>  -11.5063</td> <td>    1.693</td> <td>   -6.795</td> <td> 0.000</td> <td>  -14.825    -8.187</td>\n",
       "</tr>\n",
       "<tr>\n",
       "  <th>UniqueCarrier[T.B6]</th> <td>   10.6909</td> <td>    1.674</td> <td>    6.385</td> <td> 0.000</td> <td>    7.409    13.973</td>\n",
       "</tr>\n",
       "<tr>\n",
       "  <th>UniqueCarrier[T.CO]</th> <td>    0.1699</td> <td>    1.427</td> <td>    0.119</td> <td> 0.905</td> <td>   -2.628     2.968</td>\n",
       "</tr>\n",
       "<tr>\n",
       "  <th>UniqueCarrier[T.DL]</th> <td>   -4.8806</td> <td>    1.413</td> <td>   -3.454</td> <td> 0.001</td> <td>   -7.650    -2.111</td>\n",
       "</tr>\n",
       "<tr>\n",
       "  <th>UniqueCarrier[T.EV]</th> <td>    4.2740</td> <td>    1.427</td> <td>    2.996</td> <td> 0.003</td> <td>    1.478     7.070</td>\n",
       "</tr>\n",
       "<tr>\n",
       "  <th>UniqueCarrier[T.F9]</th> <td>  -22.2531</td> <td>    1.521</td> <td>  -14.629</td> <td> 0.000</td> <td>  -25.235   -19.272</td>\n",
       "</tr>\n",
       "<tr>\n",
       "  <th>UniqueCarrier[T.FL]</th> <td>   -3.1886</td> <td>    1.446</td> <td>   -2.205</td> <td> 0.027</td> <td>   -6.023    -0.354</td>\n",
       "</tr>\n",
       "<tr>\n",
       "  <th>UniqueCarrier[T.HA]</th> <td>   12.6783</td> <td>    3.386</td> <td>    3.745</td> <td> 0.000</td> <td>    6.042    19.314</td>\n",
       "</tr>\n",
       "<tr>\n",
       "  <th>UniqueCarrier[T.MQ]</th> <td>    3.4746</td> <td>    1.407</td> <td>    2.469</td> <td> 0.014</td> <td>    0.717     6.232</td>\n",
       "</tr>\n",
       "<tr>\n",
       "  <th>UniqueCarrier[T.NW]</th> <td>  -10.7818</td> <td>    1.510</td> <td>   -7.142</td> <td> 0.000</td> <td>  -13.741    -7.823</td>\n",
       "</tr>\n",
       "<tr>\n",
       "  <th>UniqueCarrier[T.OH]</th> <td>   -1.7975</td> <td>    1.580</td> <td>   -1.138</td> <td> 0.255</td> <td>   -4.894     1.299</td>\n",
       "</tr>\n",
       "<tr>\n",
       "  <th>UniqueCarrier[T.OO]</th> <td>    3.9002</td> <td>    1.413</td> <td>    2.761</td> <td> 0.006</td> <td>    1.131     6.669</td>\n",
       "</tr>\n",
       "<tr>\n",
       "  <th>UniqueCarrier[T.UA]</th> <td>    1.3540</td> <td>    1.397</td> <td>    0.969</td> <td> 0.333</td> <td>   -1.385     4.093</td>\n",
       "</tr>\n",
       "<tr>\n",
       "  <th>UniqueCarrier[T.US]</th> <td>   -7.7017</td> <td>    1.444</td> <td>   -5.333</td> <td> 0.000</td> <td>  -10.532    -4.871</td>\n",
       "</tr>\n",
       "<tr>\n",
       "  <th>UniqueCarrier[T.WN]</th> <td>  -20.5721</td> <td>    1.406</td> <td>  -14.629</td> <td> 0.000</td> <td>  -23.328   -17.816</td>\n",
       "</tr>\n",
       "<tr>\n",
       "  <th>UniqueCarrier[T.XE]</th> <td>   14.0329</td> <td>    1.451</td> <td>    9.674</td> <td> 0.000</td> <td>   11.190    16.876</td>\n",
       "</tr>\n",
       "<tr>\n",
       "  <th>UniqueCarrier[T.YV]</th> <td>    9.7194</td> <td>    1.471</td> <td>    6.606</td> <td> 0.000</td> <td>    6.836    12.603</td>\n",
       "</tr>\n",
       "<tr>\n",
       "  <th>DepTime</th>             <td>    0.0278</td> <td>    0.000</td> <td>  109.008</td> <td> 0.000</td> <td>    0.027     0.028</td>\n",
       "</tr>\n",
       "<tr>\n",
       "  <th>ArrTime</th>             <td>   -0.0125</td> <td>    0.000</td> <td>  -60.633</td> <td> 0.000</td> <td>   -0.013    -0.012</td>\n",
       "</tr>\n",
       "<tr>\n",
       "  <th>Month</th>               <td>    0.0623</td> <td>    0.028</td> <td>    2.237</td> <td> 0.025</td> <td>    0.008     0.117</td>\n",
       "</tr>\n",
       "<tr>\n",
       "  <th>DayOfWeek</th>           <td>    0.3621</td> <td>    0.049</td> <td>    7.448</td> <td> 0.000</td> <td>    0.267     0.457</td>\n",
       "</tr>\n",
       "</table>\n",
       "<table class=\"simpletable\">\n",
       "<tr>\n",
       "  <th>Omnibus:</th>       <td>379313.470</td> <th>  Durbin-Watson:     </th>   <td>   1.787</td>  \n",
       "</tr>\n",
       "<tr>\n",
       "  <th>Prob(Omnibus):</th>   <td> 0.000</td>   <th>  Jarque-Bera (JB):  </th> <td>24309573.374</td>\n",
       "</tr>\n",
       "<tr>\n",
       "  <th>Skew:</th>            <td> 3.964</td>   <th>  Prob(JB):          </th>   <td>    0.00</td>  \n",
       "</tr>\n",
       "<tr>\n",
       "  <th>Kurtosis:</th>        <td>38.907</td>   <th>  Cond. No.          </th>   <td>4.59e+05</td>  \n",
       "</tr>\n",
       "</table>"
      ],
      "text/plain": [
       "<class 'statsmodels.iolib.summary.Summary'>\n",
       "\"\"\"\n",
       "                            OLS Regression Results                            \n",
       "==============================================================================\n",
       "Dep. Variable:               ArrDelay   R-squared:                       0.043\n",
       "Model:                            OLS   Adj. R-squared:                  0.043\n",
       "Method:                 Least Squares   F-statistic:                     835.9\n",
       "Date:                Mon, 23 Jan 2017   Prob (F-statistic):               0.00\n",
       "Time:                        18:29:28   Log-Likelihood:            -2.4054e+06\n",
       "No. Observations:              431487   AIC:                         4.811e+06\n",
       "Df Residuals:                  431463   BIC:                         4.811e+06\n",
       "Df Model:                          23                                         \n",
       "Covariance Type:            nonrobust                                         \n",
       "=======================================================================================\n",
       "                          coef    std err          t      P>|t|      [95.0% Conf. Int.]\n",
       "---------------------------------------------------------------------------------------\n",
       "Intercept              46.8155      1.446     32.378      0.000        43.982    49.649\n",
       "UniqueCarrier[T.AA]    -2.1200      1.392     -1.523      0.128        -4.848     0.608\n",
       "UniqueCarrier[T.AQ]   -30.5587     19.288     -1.584      0.113       -68.363     7.245\n",
       "UniqueCarrier[T.AS]   -11.5063      1.693     -6.795      0.000       -14.825    -8.187\n",
       "UniqueCarrier[T.B6]    10.6909      1.674      6.385      0.000         7.409    13.973\n",
       "UniqueCarrier[T.CO]     0.1699      1.427      0.119      0.905        -2.628     2.968\n",
       "UniqueCarrier[T.DL]    -4.8806      1.413     -3.454      0.001        -7.650    -2.111\n",
       "UniqueCarrier[T.EV]     4.2740      1.427      2.996      0.003         1.478     7.070\n",
       "UniqueCarrier[T.F9]   -22.2531      1.521    -14.629      0.000       -25.235   -19.272\n",
       "UniqueCarrier[T.FL]    -3.1886      1.446     -2.205      0.027        -6.023    -0.354\n",
       "UniqueCarrier[T.HA]    12.6783      3.386      3.745      0.000         6.042    19.314\n",
       "UniqueCarrier[T.MQ]     3.4746      1.407      2.469      0.014         0.717     6.232\n",
       "UniqueCarrier[T.NW]   -10.7818      1.510     -7.142      0.000       -13.741    -7.823\n",
       "UniqueCarrier[T.OH]    -1.7975      1.580     -1.138      0.255        -4.894     1.299\n",
       "UniqueCarrier[T.OO]     3.9002      1.413      2.761      0.006         1.131     6.669\n",
       "UniqueCarrier[T.UA]     1.3540      1.397      0.969      0.333        -1.385     4.093\n",
       "UniqueCarrier[T.US]    -7.7017      1.444     -5.333      0.000       -10.532    -4.871\n",
       "UniqueCarrier[T.WN]   -20.5721      1.406    -14.629      0.000       -23.328   -17.816\n",
       "UniqueCarrier[T.XE]    14.0329      1.451      9.674      0.000        11.190    16.876\n",
       "UniqueCarrier[T.YV]     9.7194      1.471      6.606      0.000         6.836    12.603\n",
       "DepTime                 0.0278      0.000    109.008      0.000         0.027     0.028\n",
       "ArrTime                -0.0125      0.000    -60.633      0.000        -0.013    -0.012\n",
       "Month                   0.0623      0.028      2.237      0.025         0.008     0.117\n",
       "DayOfWeek               0.3621      0.049      7.448      0.000         0.267     0.457\n",
       "==============================================================================\n",
       "Omnibus:                   379313.470   Durbin-Watson:                   1.787\n",
       "Prob(Omnibus):                  0.000   Jarque-Bera (JB):         24309573.374\n",
       "Skew:                           3.964   Prob(JB):                         0.00\n",
       "Kurtosis:                      38.907   Cond. No.                     4.59e+05\n",
       "==============================================================================\n",
       "\n",
       "Warnings:\n",
       "[1] Standard Errors assume that the covariance matrix of the errors is correctly specified.\n",
       "[2] The condition number is large, 4.59e+05. This might indicate that there are\n",
       "strong multicollinearity or other numerical problems.\n",
       "\"\"\""
      ]
     },
     "execution_count": 27,
     "metadata": {},
     "output_type": "execute_result"
    }
   ],
   "source": [
    "lm.summary()"
   ]
  },
  {
   "cell_type": "code",
   "execution_count": null,
   "metadata": {
    "collapsed": true
   },
   "outputs": [],
   "source": []
  },
  {
   "cell_type": "code",
   "execution_count": 28,
   "metadata": {
    "collapsed": false
   },
   "outputs": [
    {
     "name": "stdout",
     "output_type": "stream",
     "text": [
      "55.281578772\n",
      "[  2.78938113e-02  -1.28072629e-02  -3.45764771e+00  -5.64091083e+00\n",
      "  -1.01669217e+01  -9.72124735e+00  -5.45688635e+00  -1.65764288e+00\n",
      "  -4.86551130e+00  -1.16887872e+01  -1.38953195e+01  -6.38380136e+00\n",
      "   1.79290140e+00  -3.56218719e+00  -1.28581765e+00   2.54006411e+00\n",
      "  -5.72719925e-01   4.06653575e+00  -1.25624210e+00  -2.75475091e+01\n",
      "  -6.21407720e+00   8.52773462e+00  -2.53876502e+00  -5.01003759e+00\n",
      "   1.87158512e+00  -1.36487805e+01  -4.03106590e+00   2.63481869e+01\n",
      "  -7.18852717e-02  -1.01848813e+01  -3.91064821e+00   5.23837070e+00\n",
      "   2.58477000e+00  -1.93225402e+00  -1.09556211e+01   8.73887093e+00\n",
      "   8.78483575e+00  -1.20310482e+01  -6.06753486e+00   6.12919242e+00\n",
      "  -1.16444734e+01  -1.35823451e+01  -3.19972031e-01   7.60030924e+00\n",
      "  -1.32029082e+01  -2.86435132e+00]\n"
     ]
    }
   ],
   "source": [
    "#Build the Linear Regression Model\n",
    "feature_cols = ['DepTime','ArrTime','month_2','month_3','month_4','month_5','month_6','month_7','month_8',\n",
    "               'month_9','month_10','month_11','dow_2','dow_3','dow_4','dow_5','dow_6','dow_7',\n",
    "               'carrier_AA','carrier_AQ','carrier_AS','carrier_B6','carrier_CO','carrier_DL',\n",
    "               'carrier_EV','carrier_F9','carrier_FL','carrier_HA','carrier_MQ','carrier_NW','carrier_OH',\n",
    "               'carrier_OO','carrier_UA','carrier_US','carrier_WN','carrier_XE','carrier_YV',\n",
    "               'airport_DEN','airport_DFW','airport_EWR','airport_LAS','airport_LAX','airport_LGA',\n",
    "               'airport_ORD','airport_PHX','airport_SFO']\n",
    "\n",
    "X = arrdelaydata[feature_cols]\n",
    "y = arrdelaydata.ArrDelay\n",
    "X_train, X_test, y_train, y_test = train_test_split(X, y, random_state=123)\n",
    "\n",
    "linreg = LinearRegression()\n",
    "linreg.fit(X_train, y_train)\n",
    "\n",
    "print linreg.intercept_\n",
    "print linreg.coef_"
   ]
  },
  {
   "cell_type": "code",
   "execution_count": 29,
   "metadata": {
    "collapsed": false
   },
   "outputs": [
    {
     "name": "stdout",
     "output_type": "stream",
     "text": [
      "[('DepTime', 0.027893811286336601), ('ArrTime', -0.012807262904376384), ('month_2', -3.4576477122644), ('month_3', -5.6409108324693626), ('month_4', -10.166921677972496), ('month_5', -9.7212473545520517), ('month_6', -5.4568863533621492), ('month_7', -1.657642881195674), ('month_8', -4.8655112969718406), ('month_9', -11.688787198755405), ('month_10', -13.89531950863768), ('month_11', -6.3838013626371124), ('dow_2', 1.792901402136774), ('dow_3', -3.5621871889017869), ('dow_4', -1.285817646618145), ('dow_5', 2.5400641088373348), ('dow_6', -0.57271992522105197), ('dow_7', 4.0665357491143412), ('carrier_AA', -1.256242096085086), ('carrier_AQ', -27.547509075323738), ('carrier_AS', -6.2140771990101982), ('carrier_B6', 8.5277346187130991), ('carrier_CO', -2.5387650171669294), ('carrier_DL', -5.010037588901783), ('carrier_EV', 1.8715851205567118), ('carrier_F9', -13.648780519966353), ('carrier_FL', -4.031065895807064), ('carrier_HA', 26.348186947261272), ('carrier_MQ', -0.071885271715119714), ('carrier_NW', -10.184881282130149), ('carrier_OH', -3.9106482089150258), ('carrier_OO', 5.2383706966620354), ('carrier_UA', 2.5847700000032932), ('carrier_US', -1.9322540198755824), ('carrier_WN', -10.95562107503704), ('carrier_XE', 8.7388709334859964), ('carrier_YV', 8.7848357508300783), ('airport_DEN', -12.031048226079927), ('airport_DFW', -6.0675348570804992), ('airport_EWR', 6.1291924231548762), ('airport_LAS', -11.64447335425635), ('airport_LAX', -13.582345105322695), ('airport_LGA', -0.31997203103252991), ('airport_ORD', 7.6003092385756332), ('airport_PHX', -13.202908209351303), ('airport_SFO', -2.8643513232847932)]\n"
     ]
    }
   ],
   "source": [
    "print zip(feature_cols,linreg.coef_)"
   ]
  },
  {
   "cell_type": "code",
   "execution_count": 30,
   "metadata": {
    "collapsed": false
   },
   "outputs": [
    {
     "name": "stdout",
     "output_type": "stream",
     "text": [
      "[ 72.75478166  82.27809245  63.08889987 ...,  92.75245337  82.94851267\n",
      "  89.2382475 ]\n",
      "[ 59.  17.  78. ...,  63.  48.  30.]\n"
     ]
    }
   ],
   "source": [
    "y_pred = linreg.predict(X_train)\n",
    "print y_pred\n",
    "print y_train.values"
   ]
  },
  {
   "cell_type": "code",
   "execution_count": 31,
   "metadata": {
    "collapsed": false
   },
   "outputs": [
    {
     "data": {
      "text/plain": [
       "0.058219469495263021"
      ]
     },
     "execution_count": 31,
     "metadata": {},
     "output_type": "execute_result"
    }
   ],
   "source": [
    "metrics.r2_score(y_train.values,y_pred)"
   ]
  },
  {
   "cell_type": "code",
   "execution_count": null,
   "metadata": {
    "collapsed": false
   },
   "outputs": [],
   "source": []
  },
  {
   "cell_type": "markdown",
   "metadata": {},
   "source": [
    "### Analysis - Let's do some more analysis on the original dataset and analyze how the Arrival Delay is impacted by different factors\n",
    "\n",
    "#### Let's Analyze how different type of Delay impacts Arrival Delay by ploting as a graph. The dataset has below types of delay\n",
    "1. CarrierDelay\n",
    "2. WeatherDelay\n",
    "3. NASDelay\n",
    "4. SecurityDelay\n",
    "5. LateAircraftDelay\n"
   ]
  },
  {
   "cell_type": "code",
   "execution_count": 32,
   "metadata": {
    "collapsed": false
   },
   "outputs": [
    {
     "data": {
      "text/plain": [
       "<seaborn.axisgrid.PairGrid at 0x118391290>"
      ]
     },
     "execution_count": 32,
     "metadata": {},
     "output_type": "execute_result"
    },
    {
     "data": {
      "image/png": "[encoded data removed]",
      "text/plain": [
       "<matplotlib.figure.Figure at 0x118391410>"
      ]
     },
     "metadata": {},
     "output_type": "display_data"
    }
   ],
   "source": [
    "# Plot graphs to analyze relationship between each type of delay with the Arrival Delay\n",
    "sns.pairplot(topbusyairports,x_vars=['CarrierDelay','WeatherDelay','NASDelay'],\n",
    "             y_vars='ArrDelay',size=8)"
   ]
  },
  {
   "cell_type": "code",
   "execution_count": 33,
   "metadata": {
    "collapsed": false
   },
   "outputs": [
    {
     "data": {
      "text/plain": [
       "<seaborn.axisgrid.PairGrid at 0x1177f1710>"
      ]
     },
     "execution_count": 33,
     "metadata": {},
     "output_type": "execute_result"
    },
    {
     "data": {
      "image/png": "[encoded data removed]",
      "text/plain": [
       "<matplotlib.figure.Figure at 0x1177f1610>"
      ]
     },
     "metadata": {},
     "output_type": "display_data"
    }
   ],
   "source": [
    "# Plot graphs to analyze relationship between each type of delay with the Arrival Delay\n",
    "sns.pairplot(topbusyairports,x_vars=['SecurityDelay','LateAircraftDelay'],\n",
    "             y_vars='ArrDelay',size = 8)"
   ]
  },
  {
   "cell_type": "code",
   "execution_count": 34,
   "metadata": {
    "collapsed": false
   },
   "outputs": [
    {
     "data": {
      "text/plain": [
       "<seaborn.axisgrid.PairGrid at 0x1179ac0d0>"
      ]
     },
     "execution_count": 34,
     "metadata": {},
     "output_type": "execute_result"
    },
    {
     "data": {
      "image/png": "[encoded data removed]",
      "text/plain": [
       "<matplotlib.figure.Figure at 0x1179ac210>"
      ]
     },
     "metadata": {},
     "output_type": "display_data"
    }
   ],
   "source": [
    "#Plot the Arrival Dealy to show which month has the maximum delay\n",
    "sns.pairplot(topbusyairports, x_vars='Month', y_vars='ArrDelay', kind='scatter', size=5)"
   ]
  },
  {
   "cell_type": "code",
   "execution_count": null,
   "metadata": {
    "collapsed": false
   },
   "outputs": [
    {
     "data": {
      "text/plain": [
       "<seaborn.axisgrid.PairGrid at 0x117899050>"
      ]
     },
     "execution_count": 35,
     "metadata": {},
     "output_type": "execute_result"
    },
    {
     "data": {
      "image/png": "[encoded data removed]",
      "text/plain": [
       "<matplotlib.figure.Figure at 0x11788e1d0>"
      ]
     },
     "metadata": {},
     "output_type": "display_data"
    }
   ],
   "source": [
    "#Plot the Arrival Dealy to show which Day of week has the maximum delay\n",
    "sns.pairplot(topbusyairports, x_vars='DayOfWeek', y_vars='ArrDelay', kind='scatter', size=5)"
   ]
  },
  {
   "cell_type": "code",
   "execution_count": null,
   "metadata": {
    "collapsed": false
   },
   "outputs": [],
   "source": [
    "# Plot graphs to analyze relationship between each type of delay with the Arrival Delay\n",
    "sns.pairplot(topbusyairports,x_vars=['DepTime','ArrTime'],\n",
    "             y_vars='ArrDelay', size=8)"
   ]
  },
  {
   "cell_type": "code",
   "execution_count": null,
   "metadata": {
    "collapsed": false
   },
   "outputs": [],
   "source": [
    "#Count the number of flights which had on time arrival\n",
    "len(topbusyairports[topbusyairports['ArrDelay'] == 0])"
   ]
  },
  {
   "cell_type": "code",
   "execution_count": null,
   "metadata": {
    "collapsed": false
   },
   "outputs": [],
   "source": [
    "#Count the number of flights which had late arrival\n",
    "len(topbusyairports[topbusyairports['ArrDelay'] > 0])"
   ]
  },
  {
   "cell_type": "code",
   "execution_count": null,
   "metadata": {
    "collapsed": false
   },
   "outputs": [],
   "source": [
    "#Count the number of flights which were ahead of the arrival schedule\n",
    "len(topbusyairports[topbusyairports['ArrDelay'] < 0])"
   ]
  },
  {
   "cell_type": "code",
   "execution_count": null,
   "metadata": {
    "collapsed": false
   },
   "outputs": [],
   "source": [
    "#What was the maximum delay in minutes\n",
    "topbusyairports['ArrDelay'].max()"
   ]
  },
  {
   "cell_type": "code",
   "execution_count": null,
   "metadata": {
    "collapsed": false
   },
   "outputs": [],
   "source": [
    "#Confirm that was the maximum delay\n",
    "len(topbusyairports[topbusyairports['ArrDelay'] > 1707])"
   ]
  },
  {
   "cell_type": "code",
   "execution_count": null,
   "metadata": {
    "collapsed": false
   },
   "outputs": [],
   "source": [
    "#Print the details of the Flight having maximum Delay\n",
    "\n",
    "print topbusyairports.loc[topbusyairports['ArrDelay'].argmax()]"
   ]
  },
  {
   "cell_type": "code",
   "execution_count": null,
   "metadata": {
    "collapsed": false
   },
   "outputs": [],
   "source": [
    "#What was the minimum delay time\n",
    "topbusyairports['ArrDelay'].min()"
   ]
  },
  {
   "cell_type": "code",
   "execution_count": null,
   "metadata": {
    "collapsed": false
   },
   "outputs": [],
   "source": [
    "#Confirm that was the earliest arrival time\n",
    "len(topbusyairports[topbusyairports['ArrDelay'] < 15])"
   ]
  },
  {
   "cell_type": "code",
   "execution_count": null,
   "metadata": {
    "collapsed": false
   },
   "outputs": [],
   "source": [
    "#Print the row with earliest arrival Flight\n",
    "topbusyairports.loc[topbusyairports['ArrDelay'].argmin()]"
   ]
  },
  {
   "cell_type": "code",
   "execution_count": null,
   "metadata": {
    "collapsed": false,
    "scrolled": true
   },
   "outputs": [],
   "source": [
    "#Plot the delay for each carrier\n",
    "sns.violinplot(x=topbusyairports.UniqueCarrier,y=topbusyairports.ArrDelay)"
   ]
  },
  {
   "cell_type": "code",
   "execution_count": null,
   "metadata": {
    "collapsed": false
   },
   "outputs": [],
   "source": [
    "#Calculate the total number of Flights delayed by more than 5 minutes\n",
    "#Create a new data field 'Delayed' that would store Boolean value of if flight is delayed or not delayed\n",
    "topbusyairports['Delayed'] = topbusyairports['ArrDelay'].apply(lambda x:x>15)\n",
    "\n",
    "#Print the distinct number of values for the Delayed field\n",
    "topbusyairports['Delayed'].value_counts()"
   ]
  },
  {
   "cell_type": "code",
   "execution_count": null,
   "metadata": {
    "collapsed": false
   },
   "outputs": [],
   "source": [
    "#Calculate the overall percentage of delayed flights\n",
    "data_delayed = topbusyairports['Delayed'].value_counts()[1]\n",
    "data_notdelayed = topbusyairports['Delayed'].value_counts()[0]\n",
    "print data_delayed\n",
    "print data_notdelayed\n",
    "\n",
    "#percentage_delayed = float(data_delayed) / (data_delayed + data_notdelayed)\n",
    "#print 'Total Percentage of Delayed flights is : {}%'.format(percentage_delayed*100)"
   ]
  },
  {
   "cell_type": "code",
   "execution_count": null,
   "metadata": {
    "collapsed": false
   },
   "outputs": [],
   "source": [
    "#Calculate the delayed/non delayed flights based on carrier\n",
    "data_groupby_carrier = topbusyairports.groupby(['UniqueCarrier','Delayed'])\n",
    "count_delayby_carrier = data_groupby_carrier.size().unstack()\n",
    "\n",
    "#count_delayby_carrier\n",
    "count_delayby_carrier.plot(kind='barh', stacked=True, figsize=[16,8], colormap='winter')\n"
   ]
  },
  {
   "cell_type": "code",
   "execution_count": null,
   "metadata": {
    "collapsed": false
   },
   "outputs": [],
   "source": [
    "#Calculate the delayed/non delayed flights based on carrier\n",
    "topbusyairports[['UniqueCarrier','Delayed']].groupby('UniqueCarrier').mean().sort_values('Delayed').plot(kind='barh', \n",
    "                                                                                              figsize=(16,8))"
   ]
  },
  {
   "cell_type": "code",
   "execution_count": null,
   "metadata": {
    "collapsed": false
   },
   "outputs": [],
   "source": [
    "data_groupby_carrier.Delayed.count()"
   ]
  },
  {
   "cell_type": "code",
   "execution_count": null,
   "metadata": {
    "collapsed": false
   },
   "outputs": [],
   "source": [
    "data.columns.values"
   ]
  },
  {
   "cell_type": "code",
   "execution_count": null,
   "metadata": {
    "collapsed": false
   },
   "outputs": [],
   "source": [
    "sns.pairplot(data,x_vars=['Month','DayofMonth','DayOfWeek','DepTime','ArrTime'],y_vars='ArrDelay',size=7,aspect=0.7,kind='reg')"
   ]
  },
  {
   "cell_type": "code",
   "execution_count": null,
   "metadata": {
    "collapsed": false
   },
   "outputs": [],
   "source": [
    "fltdata.shape"
   ]
  },
  {
   "cell_type": "code",
   "execution_count": null,
   "metadata": {
    "collapsed": false
   },
   "outputs": [],
   "source": [
    "#Data Cleaning (Use inplace = True to permanently drop the values)\n",
    "#fltdata.dropna(how='any').shape\n",
    "#fltdata.dropna(how='all').shape\n",
    "fltdata.isnull().sum()"
   ]
  },
  {
   "cell_type": "code",
   "execution_count": null,
   "metadata": {
    "collapsed": false
   },
   "outputs": [],
   "source": [
    "fltdata.notnull().sum()"
   ]
  },
  {
   "cell_type": "code",
   "execution_count": null,
   "metadata": {
    "collapsed": false
   },
   "outputs": [],
   "source": [
    "fltdata.dropna(how='any',inplace='True')"
   ]
  },
  {
   "cell_type": "code",
   "execution_count": null,
   "metadata": {
    "collapsed": false
   },
   "outputs": [],
   "source": [
    "fltdata.shape"
   ]
  },
  {
   "cell_type": "code",
   "execution_count": null,
   "metadata": {
    "collapsed": false
   },
   "outputs": [],
   "source": [
    "len(fltdata.Origin.unique())"
   ]
  },
  {
   "cell_type": "code",
   "execution_count": null,
   "metadata": {
    "collapsed": false
   },
   "outputs": [],
   "source": [
    "fltdata.Origin.value_counts()"
   ]
  },
  {
   "cell_type": "code",
   "execution_count": null,
   "metadata": {
    "collapsed": true
   },
   "outputs": [],
   "source": []
  }
 ],
 "metadata": {
  "anaconda-cloud": {},
  "kernelspec": {
   "display_name": "Python [default]",
   "language": "python",
   "name": "python2"
  },
  "language_info": {
   "codemirror_mode": {
    "name": "ipython",
    "version": 2
   },
   "file_extension": ".py",
   "mimetype": "text/x-python",
   "name": "python",
   "nbconvert_exporter": "python",
   "pygments_lexer": "ipython2",
   "version": "2.7.12"
  }
 },
 "nbformat": 4,
 "nbformat_minor": 0
}
