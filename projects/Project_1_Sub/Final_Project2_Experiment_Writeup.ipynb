{
 "cells": [
  {
   "cell_type": "markdown",
   "metadata": {},
   "source": [
    "# Final Project - Experiment Writeup - Predicting Airline Delay"
   ]
  },
  {
   "cell_type": "markdown",
   "metadata": {
    "collapsed": false
   },
   "source": [
    "## Dataset:\n",
    "The data set considered here for analysis is the Airline performance data available for all US Carrier from U.S. Department of Transportation's (DOT) Bureau of Transportation Statistics (BTS) for the year 2008.\n",
    "\n",
    "## Information available:\n",
    "The data set contains below set of information - 29 columns\n",
    "\n",
    "| SL NO        |Feature Name  | Description  |\n",
    "|:------------ |:------------ | :------------|\n",
    "|1  |Year   |2008|\n",
    "|2\t|Month\t|1-12|\n",
    "|3\t|DayofMonth\t|1-31|\n",
    "|4\t|DayOfWeek\t|1 (Monday) - 7 (Sunday)|\n",
    "|5\t|DepTime\t|actual departure time (local, hhmm)|\n",
    "|6\t|CRSDepTime\t|scheduled departure time (local, hhmm)|\n",
    "|7\t|ArrTime\t|actual arrival time (local, hhmm)|\n",
    "|8\t|CRSArrTime\t|scheduled arrival time (local, hhmm)|\n",
    "|9\t|UniqueCarrier\t|unique carrier code|\n",
    "|10\t|FlightNum\t|flight number|\n",
    "|11\t|TailNum\t|plane tail number|\n",
    "|12\t|ActualElapsedTime\t|in minutes|\n",
    "|13\t|CRSElapsedTime\t|in minutes|\n",
    "|14\t|AirTime\t|in minutes|\n",
    "|15\t|ArrDelay\t|arrival delay, in minutes|\n",
    "|16\t|DepDelay\t|departure delay, in minutes|\n",
    "|17\t|Origin\t|origin IATA airport code|\n",
    "|18\t|Dest\t|destination IATA airport code|\n",
    "|19\t|Distance\t|in miles|\n",
    "|20\t|TaxiIn\ttaxi |in time, in minutes|\n",
    "|21\t|TaxiOut\t|taxi out time in minutes|\n",
    "|22\t|Cancelled\t|was the flight cancelled?|\n",
    "|23\t|CancellationCode\t|reason for cancellation (A = carrier, B = weather, C = NAS, D = security)|\n",
    "|24\t|Diverted\t|1 = yes, 0 = no|\n",
    "|25\t|CarrierDelay\t|in minutes|\n",
    "|26\t|WeatherDelay\t|in minutes|\n",
    "|27\t|NASDelay\t|in minutes|\n",
    "|28\t|SecurityDelay\t|in minutes|\n",
    "|29\t|LateAircraftDelay\t|in minutes|"
   ]
  },
  {
   "cell_type": "markdown",
   "metadata": {
    "collapsed": false
   },
   "source": [
    "## Goal of the Data Analysis:\n",
    "The goal of this data analysis is to perform two basic analysis.\n",
    "\n",
    "**1.** Analyzing what causes delay - ArrDelay\n",
    "\n",
    "**2.** Building a model to predict if a future travel would cause a delayed arrival based on the statistical data\n",
    "\n",
    "\n",
    "### Analyzing what causes delay:\n",
    "A flight is considered to have a delayed arrival if it doesn't arrives at the Destination Airport at the scheduled arrival time. This data set provides information about the **Arrival Delay time** in minutes.\n",
    "\n",
    "Inorder to predict what causes delay there are few other infromation available in this dataset which could factors causing delay. These factors are\n",
    "\n",
    "1. DepDelay\n",
    "2. CarrierDelay\n",
    "3. WeatherDelay\n",
    "4. NASDelay\n",
    "5. SecurityDelay\n",
    "6. LateAircraftDelay\n",
    "\n",
    "#### Based on the data available for all these factors below analysis are intented to be performed.\n",
    "\n",
    "1. Does any of these factor(s) causes delay?\n",
    "2. Which is the most likely factor that causes Airline Delay?\n",
    "\n",
    "\n",
    "### Building a model to predict if a future travel would cause a delayed arrival based on the statistical data\n",
    "This would be the second part of the analysis. Based on the statistical data available, build a model to predict if a future trip would have a delay. Since the different types of delay caused couldn't be predicted from the Itinerary of a Traveler, so the factors that should be considered for building the model should be the data that could be retrieved from the Traveler Itinerary. Below fields provide information related to what could be retrieved from a Traveler Itinerary.\n",
    "\n",
    "1. Month\n",
    "2. DayofMonth\n",
    "3. DayOfWeek\n",
    "4. DepTime\n",
    "5. ArrTime\n",
    "6. UniqueCarrier\n",
    "7. Origin\n",
    "8. Dest\n",
    "\n",
    "#### When a Traveler makes a booking the booking Itinerary contains the below basic infromation\n",
    "1. Origin Airport\n",
    "2. Destination Airport\n",
    "3. Carrier\n",
    "4. Travel Date\n",
    "5. Departure Time\n",
    "6. Arrival Time\n",
    "\n",
    "From these infromation the above listed factors could be retrieved which potentially affects delayed arrival and be predicted if the Traveler is going to have a delayed arrival."
   ]
  },
  {
   "cell_type": "markdown",
   "metadata": {
    "collapsed": true
   },
   "source": [
    "### Assumptions:\n",
    "1. The Delay Time of the Flight is associated with one/more of the delay factor(s) specified in the data set. In an ideal condition the delay time reported should be sum of all the delay time captued for different factors for the same flight.\n",
    "2. The prediction would be based on the asumption that the weather condition doesn't changes drastically for the factors affecting the trip.\n",
    "\n",
    "### Risk:\n",
    "This data set is a quite old from 2008. There would have been much change in ontime performance of different carriers by now. As such the prediction model built using this dataset would predict assuming that the recent year data are more or less similar to this data set."
   ]
  },
  {
   "cell_type": "markdown",
   "metadata": {},
   "source": [
    "## Model Selection:\n",
    "Since the goal of this analysis is to predict the arrival delay this analysis would be best suitable for a **Logistic Regression Model** that would predict the probablity of delay.\n",
    "\n",
    "How it would make more sense to predict how much would be the delay since the Traveler would be more interested in knowing the approximate delay time. So considering this aspect I will be designing this as a **Linear Regression Model** to predict the approximate delay based on the input data from the Traveler's trip data. \n"
   ]
  }
 ],
 "metadata": {
  "anaconda-cloud": {},
  "kernelspec": {
   "display_name": "Python [default]",
   "language": "python",
   "name": "python2"
  },
  "language_info": {
   "codemirror_mode": {
    "name": "ipython",
    "version": 2
   },
   "file_extension": ".py",
   "mimetype": "text/x-python",
   "name": "python",
   "nbconvert_exporter": "python",
   "pygments_lexer": "ipython2",
   "version": "2.7.12"
  }
 },
 "nbformat": 4,
 "nbformat_minor": 0
}
