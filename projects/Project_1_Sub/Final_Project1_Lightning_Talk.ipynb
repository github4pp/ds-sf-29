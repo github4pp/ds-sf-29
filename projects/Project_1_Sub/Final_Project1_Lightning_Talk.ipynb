{
 "cells": [
  {
   "cell_type": "markdown",
   "metadata": {},
   "source": [
    "# Lightning Talk for Final Project"
   ]
  },
  {
   "cell_type": "markdown",
   "metadata": {
    "collapsed": true
   },
   "source": [
    "### Project 1 - US Chronic Disease"
   ]
  },
  {
   "cell_type": "markdown",
   "metadata": {},
   "source": [
    "#### PROBLEM:\n",
    "Centre for Disesase Control and Prevention (CDC) allows states and territories and large metropolitan areas to uniformly define, collect, and report chronic disease data that are important to public health practice. Analyze these data to study the disesase pattern across states, age group etc."
   ]
  },
  {
   "cell_type": "markdown",
   "metadata": {},
   "source": [
    "#### DATA:\n",
    "The Data is provided by CDC - http://catalog.data.gov/dataset/u-s-chronic-disease-indicators-cdi-e50c9\n",
    "\n",
    "It contains information like\n",
    "    1. Year\n",
    "    2. State (US state wise data)\n",
    "    3. Chronic Disases Type (Alcohol, Arthritis etc)\n",
    "    4. Data Value (Probably means a mesurement of the extent of the disease) \n",
    "    5. Low Confidence Limit (Need to figure out what is this data)\n",
    "    6. High Confidence Limit (Need to figure out what is this data)\n",
    "    \n",
    "34 columns\n",
    "\n",
    "237961 rows"
   ]
  },
  {
   "cell_type": "markdown",
   "metadata": {},
   "source": [
    "#### HYPOTHESIS:\n",
    "Analyze if there is a trend of disease across states, age group"
   ]
  },
  {
   "cell_type": "markdown",
   "metadata": {},
   "source": [
    "### Project 2 - Predicting Airline Delay for US Domestic Flights\n",
    "The U.S. Department of Transportation's (DOT) Bureau of Transportation Statistics (BTS) tracks the on-time performance of domestic flights operated by large air carriers. The data contains a Summary information on the number of on-time, delayed, canceled and diverted flights.Analyze the data and predict the ontime arrival for a specific carrier, Airport, day of week etc."
   ]
  },
  {
   "cell_type": "markdown",
   "metadata": {},
   "source": [
    "#### DATA:\n",
    "The data is provided by DATA SOCIETY - https://data.world/data-society/airlines-delay\n",
    "It contains information like\n",
    "    1. Carrier Name\n",
    "    2. Flight Number\n",
    "    3. Origin\n",
    "    4. Destination\n",
    "    5. Departure Time\n",
    "    6. Arrival Time\n",
    "    5. Delay\n",
    "    \n",
    "30 columns\n",
    "\n",
    "1936758 rows"
   ]
  },
  {
   "cell_type": "markdown",
   "metadata": {},
   "source": [
    "#### HYPOTHESIS:\n",
    "Predict the pattern of delay based on different parameters to help someone plan his visit\n",
    "    - Specific Carrier\n",
    "    - Specific Airport\n",
    "    - Specific Time etc"
   ]
  },
  {
   "cell_type": "markdown",
   "metadata": {},
   "source": [
    "### Project 3 - Financial Consumer Complain\n",
    "Consumer Complaint database contains different types of financial complaints for different financial corporations. Study the complaint types to derive any specific trend of complaints related to specific issues or financial institution. "
   ]
  },
  {
   "cell_type": "markdown",
   "metadata": {},
   "source": [
    "#### DATA:\n",
    "The data is provided by DATA SOCIETY - https://data.world/data-society/consumer-complaint-data\n",
    "It contains Information like\n",
    "    1. Product (like Credit Card, Bank Account)\n",
    "    2. Issue reported\n",
    "    3. Company \n",
    "    4. State\n",
    "    \n",
    "18 Columns\n",
    "670598 Rows"
   ]
  },
  {
   "cell_type": "markdown",
   "metadata": {},
   "source": [
    "#### HYPOTHESIS:\n",
    "Analyze the most reported issues related to any specific company, state etc"
   ]
  },
  {
   "cell_type": "code",
   "execution_count": null,
   "metadata": {
    "collapsed": true
   },
   "outputs": [],
   "source": []
  }
 ],
 "metadata": {
  "anaconda-cloud": {},
  "kernelspec": {
   "display_name": "Python [default]",
   "language": "python",
   "name": "python2"
  },
  "language_info": {
   "codemirror_mode": {
    "name": "ipython",
    "version": 2
   },
   "file_extension": ".py",
   "mimetype": "text/x-python",
   "name": "python",
   "nbconvert_exporter": "python",
   "pygments_lexer": "ipython2",
   "version": "2.7.12"
  }
 },
 "nbformat": 4,
 "nbformat_minor": 0
}
