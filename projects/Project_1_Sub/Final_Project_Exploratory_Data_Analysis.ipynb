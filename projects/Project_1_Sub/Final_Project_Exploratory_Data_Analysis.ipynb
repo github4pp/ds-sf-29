{
 "cells": [
  {
   "cell_type": "markdown",
   "metadata": {},
   "source": [
    "# Final Project - Exploratory Data Analysis - Predicting Airline Delay"
   ]
  },
  {
   "cell_type": "code",
   "execution_count": 1,
   "metadata": {
    "collapsed": false
   },
   "outputs": [],
   "source": [
    "import pandas as pd\n",
    "import numpy as np\n",
    "import matplotlib.pyplot as plt\n",
    "\n",
    "from sklearn.linear_model import LinearRegression\n",
    "from sklearn.cross_validation import train_test_split\n",
    "from sklearn import metrics\n",
    "import statsmodels.formula.api as smf\n",
    "\n",
    "from scipy import stats\n",
    "import seaborn as sns\n",
    "\n",
    "#This will render the plots inline\n",
    "%matplotlib inline"
   ]
  },
  {
   "cell_type": "code",
   "execution_count": 2,
   "metadata": {
    "collapsed": false
   },
   "outputs": [],
   "source": [
    "#Import the Airline Delay data in csv format\n",
    "fltdata = pd.read_csv('/Users/Prakash/GA/PROJECTS/airlinedelaycauses-DelayedFlights.csv')"
   ]
  },
  {
   "cell_type": "code",
   "execution_count": 3,
   "metadata": {
    "collapsed": false
   },
   "outputs": [
    {
     "data": {
      "text/plain": [
       "(1936758, 30)"
      ]
     },
     "execution_count": 3,
     "metadata": {},
     "output_type": "execute_result"
    }
   ],
   "source": [
    "#Check the Size of the data (How many Rows and Columns)\n",
    "fltdata.shape"
   ]
  },
  {
   "cell_type": "code",
   "execution_count": 4,
   "metadata": {
    "collapsed": false
   },
   "outputs": [
    {
     "data": {
      "text/html": [
       "<div>\n",
       "<table border=\"1\" class=\"dataframe\">\n",
       "  <thead>\n",
       "    <tr style=\"text-align: right;\">\n",
       "      <th></th>\n",
       "      <th>Unnamed: 0</th>\n",
       "      <th>Year</th>\n",
       "      <th>Month</th>\n",
       "      <th>DayofMonth</th>\n",
       "      <th>DayOfWeek</th>\n",
       "      <th>DepTime</th>\n",
       "      <th>CRSDepTime</th>\n",
       "      <th>ArrTime</th>\n",
       "      <th>CRSArrTime</th>\n",
       "      <th>UniqueCarrier</th>\n",
       "      <th>...</th>\n",
       "      <th>TaxiIn</th>\n",
       "      <th>TaxiOut</th>\n",
       "      <th>Cancelled</th>\n",
       "      <th>CancellationCode</th>\n",
       "      <th>Diverted</th>\n",
       "      <th>CarrierDelay</th>\n",
       "      <th>WeatherDelay</th>\n",
       "      <th>NASDelay</th>\n",
       "      <th>SecurityDelay</th>\n",
       "      <th>LateAircraftDelay</th>\n",
       "    </tr>\n",
       "  </thead>\n",
       "  <tbody>\n",
       "    <tr>\n",
       "      <th>0</th>\n",
       "      <td>0</td>\n",
       "      <td>2008</td>\n",
       "      <td>1</td>\n",
       "      <td>3</td>\n",
       "      <td>4</td>\n",
       "      <td>2003.0</td>\n",
       "      <td>1955</td>\n",
       "      <td>2211.0</td>\n",
       "      <td>2225</td>\n",
       "      <td>WN</td>\n",
       "      <td>...</td>\n",
       "      <td>4.0</td>\n",
       "      <td>8.0</td>\n",
       "      <td>0</td>\n",
       "      <td>N</td>\n",
       "      <td>0</td>\n",
       "      <td>NaN</td>\n",
       "      <td>NaN</td>\n",
       "      <td>NaN</td>\n",
       "      <td>NaN</td>\n",
       "      <td>NaN</td>\n",
       "    </tr>\n",
       "    <tr>\n",
       "      <th>1</th>\n",
       "      <td>1</td>\n",
       "      <td>2008</td>\n",
       "      <td>1</td>\n",
       "      <td>3</td>\n",
       "      <td>4</td>\n",
       "      <td>754.0</td>\n",
       "      <td>735</td>\n",
       "      <td>1002.0</td>\n",
       "      <td>1000</td>\n",
       "      <td>WN</td>\n",
       "      <td>...</td>\n",
       "      <td>5.0</td>\n",
       "      <td>10.0</td>\n",
       "      <td>0</td>\n",
       "      <td>N</td>\n",
       "      <td>0</td>\n",
       "      <td>NaN</td>\n",
       "      <td>NaN</td>\n",
       "      <td>NaN</td>\n",
       "      <td>NaN</td>\n",
       "      <td>NaN</td>\n",
       "    </tr>\n",
       "    <tr>\n",
       "      <th>2</th>\n",
       "      <td>2</td>\n",
       "      <td>2008</td>\n",
       "      <td>1</td>\n",
       "      <td>3</td>\n",
       "      <td>4</td>\n",
       "      <td>628.0</td>\n",
       "      <td>620</td>\n",
       "      <td>804.0</td>\n",
       "      <td>750</td>\n",
       "      <td>WN</td>\n",
       "      <td>...</td>\n",
       "      <td>3.0</td>\n",
       "      <td>17.0</td>\n",
       "      <td>0</td>\n",
       "      <td>N</td>\n",
       "      <td>0</td>\n",
       "      <td>NaN</td>\n",
       "      <td>NaN</td>\n",
       "      <td>NaN</td>\n",
       "      <td>NaN</td>\n",
       "      <td>NaN</td>\n",
       "    </tr>\n",
       "    <tr>\n",
       "      <th>3</th>\n",
       "      <td>4</td>\n",
       "      <td>2008</td>\n",
       "      <td>1</td>\n",
       "      <td>3</td>\n",
       "      <td>4</td>\n",
       "      <td>1829.0</td>\n",
       "      <td>1755</td>\n",
       "      <td>1959.0</td>\n",
       "      <td>1925</td>\n",
       "      <td>WN</td>\n",
       "      <td>...</td>\n",
       "      <td>3.0</td>\n",
       "      <td>10.0</td>\n",
       "      <td>0</td>\n",
       "      <td>N</td>\n",
       "      <td>0</td>\n",
       "      <td>2.0</td>\n",
       "      <td>0.0</td>\n",
       "      <td>0.0</td>\n",
       "      <td>0.0</td>\n",
       "      <td>32.0</td>\n",
       "    </tr>\n",
       "    <tr>\n",
       "      <th>4</th>\n",
       "      <td>5</td>\n",
       "      <td>2008</td>\n",
       "      <td>1</td>\n",
       "      <td>3</td>\n",
       "      <td>4</td>\n",
       "      <td>1940.0</td>\n",
       "      <td>1915</td>\n",
       "      <td>2121.0</td>\n",
       "      <td>2110</td>\n",
       "      <td>WN</td>\n",
       "      <td>...</td>\n",
       "      <td>4.0</td>\n",
       "      <td>10.0</td>\n",
       "      <td>0</td>\n",
       "      <td>N</td>\n",
       "      <td>0</td>\n",
       "      <td>NaN</td>\n",
       "      <td>NaN</td>\n",
       "      <td>NaN</td>\n",
       "      <td>NaN</td>\n",
       "      <td>NaN</td>\n",
       "    </tr>\n",
       "  </tbody>\n",
       "</table>\n",
       "<p>5 rows × 30 columns</p>\n",
       "</div>"
      ],
      "text/plain": [
       "   Unnamed: 0  Year  Month  DayofMonth  DayOfWeek  DepTime  CRSDepTime  \\\n",
       "0           0  2008      1           3          4   2003.0        1955   \n",
       "1           1  2008      1           3          4    754.0         735   \n",
       "2           2  2008      1           3          4    628.0         620   \n",
       "3           4  2008      1           3          4   1829.0        1755   \n",
       "4           5  2008      1           3          4   1940.0        1915   \n",
       "\n",
       "   ArrTime  CRSArrTime UniqueCarrier        ...          TaxiIn TaxiOut  \\\n",
       "0   2211.0        2225            WN        ...             4.0     8.0   \n",
       "1   1002.0        1000            WN        ...             5.0    10.0   \n",
       "2    804.0         750            WN        ...             3.0    17.0   \n",
       "3   1959.0        1925            WN        ...             3.0    10.0   \n",
       "4   2121.0        2110            WN        ...             4.0    10.0   \n",
       "\n",
       "   Cancelled  CancellationCode  Diverted  CarrierDelay  WeatherDelay NASDelay  \\\n",
       "0          0                 N         0           NaN           NaN      NaN   \n",
       "1          0                 N         0           NaN           NaN      NaN   \n",
       "2          0                 N         0           NaN           NaN      NaN   \n",
       "3          0                 N         0           2.0           0.0      0.0   \n",
       "4          0                 N         0           NaN           NaN      NaN   \n",
       "\n",
       "  SecurityDelay  LateAircraftDelay  \n",
       "0           NaN                NaN  \n",
       "1           NaN                NaN  \n",
       "2           NaN                NaN  \n",
       "3           0.0               32.0  \n",
       "4           NaN                NaN  \n",
       "\n",
       "[5 rows x 30 columns]"
      ]
     },
     "execution_count": 4,
     "metadata": {},
     "output_type": "execute_result"
    }
   ],
   "source": [
    "# Display the header to show how the dataset looks like\n",
    "fltdata.head()"
   ]
  },
  {
   "cell_type": "code",
   "execution_count": 5,
   "metadata": {
    "collapsed": false
   },
   "outputs": [
    {
     "name": "stdout",
     "output_type": "stream",
     "text": [
      "Total data for the year 2008: 1936758\n",
      "Total data for non 2008 year: 0\n"
     ]
    }
   ],
   "source": [
    "#Verify if all the data is for the year 2008\n",
    "\n",
    "print 'Total data for the year 2008: {}'.format( len(fltdata[fltdata['Year'] == 2008]))\n",
    "print 'Total data for non 2008 year: {}' .format (len(fltdata[fltdata['Year'] != 2008]))"
   ]
  },
  {
   "cell_type": "code",
   "execution_count": 6,
   "metadata": {
    "collapsed": false,
    "scrolled": true
   },
   "outputs": [
    {
     "data": {
      "text/html": [
       "<div>\n",
       "<table border=\"1\" class=\"dataframe\">\n",
       "  <thead>\n",
       "    <tr style=\"text-align: right;\">\n",
       "      <th></th>\n",
       "      <th>ArrDelay</th>\n",
       "      <th>DepDelay</th>\n",
       "      <th>CarrierDelay</th>\n",
       "      <th>WeatherDelay</th>\n",
       "      <th>NASDelay</th>\n",
       "      <th>SecurityDelay</th>\n",
       "      <th>LateAircraftDelay</th>\n",
       "    </tr>\n",
       "  </thead>\n",
       "  <tbody>\n",
       "    <tr>\n",
       "      <th>0</th>\n",
       "      <td>-14.0</td>\n",
       "      <td>8.0</td>\n",
       "      <td>NaN</td>\n",
       "      <td>NaN</td>\n",
       "      <td>NaN</td>\n",
       "      <td>NaN</td>\n",
       "      <td>NaN</td>\n",
       "    </tr>\n",
       "    <tr>\n",
       "      <th>1</th>\n",
       "      <td>2.0</td>\n",
       "      <td>19.0</td>\n",
       "      <td>NaN</td>\n",
       "      <td>NaN</td>\n",
       "      <td>NaN</td>\n",
       "      <td>NaN</td>\n",
       "      <td>NaN</td>\n",
       "    </tr>\n",
       "    <tr>\n",
       "      <th>2</th>\n",
       "      <td>14.0</td>\n",
       "      <td>8.0</td>\n",
       "      <td>NaN</td>\n",
       "      <td>NaN</td>\n",
       "      <td>NaN</td>\n",
       "      <td>NaN</td>\n",
       "      <td>NaN</td>\n",
       "    </tr>\n",
       "    <tr>\n",
       "      <th>3</th>\n",
       "      <td>34.0</td>\n",
       "      <td>34.0</td>\n",
       "      <td>2.0</td>\n",
       "      <td>0.0</td>\n",
       "      <td>0.0</td>\n",
       "      <td>0.0</td>\n",
       "      <td>32.0</td>\n",
       "    </tr>\n",
       "    <tr>\n",
       "      <th>4</th>\n",
       "      <td>11.0</td>\n",
       "      <td>25.0</td>\n",
       "      <td>NaN</td>\n",
       "      <td>NaN</td>\n",
       "      <td>NaN</td>\n",
       "      <td>NaN</td>\n",
       "      <td>NaN</td>\n",
       "    </tr>\n",
       "  </tbody>\n",
       "</table>\n",
       "</div>"
      ],
      "text/plain": [
       "   ArrDelay  DepDelay  CarrierDelay  WeatherDelay  NASDelay  SecurityDelay  \\\n",
       "0     -14.0       8.0           NaN           NaN       NaN            NaN   \n",
       "1       2.0      19.0           NaN           NaN       NaN            NaN   \n",
       "2      14.0       8.0           NaN           NaN       NaN            NaN   \n",
       "3      34.0      34.0           2.0           0.0       0.0            0.0   \n",
       "4      11.0      25.0           NaN           NaN       NaN            NaN   \n",
       "\n",
       "   LateAircraftDelay  \n",
       "0                NaN  \n",
       "1                NaN  \n",
       "2                NaN  \n",
       "3               32.0  \n",
       "4                NaN  "
      ]
     },
     "execution_count": 6,
     "metadata": {},
     "output_type": "execute_result"
    }
   ],
   "source": [
    "#Print the header for different types of delay\n",
    "fltdata[['ArrDelay','DepDelay','CarrierDelay','WeatherDelay','NASDelay','SecurityDelay','LateAircraftDelay']].head()"
   ]
  },
  {
   "cell_type": "code",
   "execution_count": 17,
   "metadata": {
    "collapsed": false
   },
   "outputs": [
    {
     "name": "stdout",
     "output_type": "stream",
     "text": [
      "Length of original data set is : (1936758, 30) \n",
      "Reduced set of data size is : (581027, 30) \n"
     ]
    }
   ],
   "source": [
    "# Split the data to have limited data as train data since the data set is very large. \n",
    "# Using this only for analysis purpose and for model trainign would use the complete dataset.\n",
    "# Plotting graphs was too much time consuming with so much data so used a subset of that data.\n",
    "\n",
    "X_train, X_test = train_test_split(fltdata, train_size=0.3)\n",
    "#print X_train.shape\n",
    "#print X_test.shape\n",
    "data = X_train\n",
    "print 'Length of original data set is : {} '.format(fltdata.shape)\n",
    "print 'Reduced set of data size is : {} '.format(data.shape)\n"
   ]
  },
  {
   "cell_type": "code",
   "execution_count": 18,
   "metadata": {
    "collapsed": false
   },
   "outputs": [
    {
     "data": {
      "text/plain": [
       "<seaborn.axisgrid.PairGrid at 0x116370490>"
      ]
     },
     "execution_count": 18,
     "metadata": {},
     "output_type": "execute_result"
    },
    {
     "data": {
      "image/png": "[encoded data removed]",
      "text/plain": [
       "<matplotlib.figure.Figure at 0x116370d90>"
      ]
     },
     "metadata": {},
     "output_type": "display_data"
    }
   ],
   "source": [
    "#Plot the Arrival Dealy to show which month has the maximum delay\n",
    "sns.pairplot(data, x_vars='Month', y_vars='ArrDelay', kind='scatter', size=6)"
   ]
  },
  {
   "cell_type": "code",
   "execution_count": 19,
   "metadata": {
    "collapsed": false
   },
   "outputs": [
    {
     "data": {
      "text/html": [
       "<div>\n",
       "<table border=\"1\" class=\"dataframe\">\n",
       "  <thead>\n",
       "    <tr style=\"text-align: right;\">\n",
       "      <th>Month</th>\n",
       "      <th>1</th>\n",
       "      <th>2</th>\n",
       "      <th>3</th>\n",
       "      <th>4</th>\n",
       "      <th>5</th>\n",
       "      <th>6</th>\n",
       "      <th>7</th>\n",
       "      <th>8</th>\n",
       "      <th>9</th>\n",
       "      <th>10</th>\n",
       "      <th>11</th>\n",
       "      <th>12</th>\n",
       "    </tr>\n",
       "    <tr>\n",
       "      <th>DayOfWeek</th>\n",
       "      <th></th>\n",
       "      <th></th>\n",
       "      <th></th>\n",
       "      <th></th>\n",
       "      <th></th>\n",
       "      <th></th>\n",
       "      <th></th>\n",
       "      <th></th>\n",
       "      <th></th>\n",
       "      <th></th>\n",
       "      <th></th>\n",
       "      <th></th>\n",
       "    </tr>\n",
       "  </thead>\n",
       "  <tbody>\n",
       "    <tr>\n",
       "      <th>1</th>\n",
       "      <td>6993</td>\n",
       "      <td>8289</td>\n",
       "      <td>10380</td>\n",
       "      <td>6155</td>\n",
       "      <td>5848</td>\n",
       "      <td>10039</td>\n",
       "      <td>8201</td>\n",
       "      <td>7026</td>\n",
       "      <td>5195</td>\n",
       "      <td>4250</td>\n",
       "      <td>3615</td>\n",
       "      <td>11196</td>\n",
       "    </tr>\n",
       "    <tr>\n",
       "      <th>2</th>\n",
       "      <td>8526</td>\n",
       "      <td>8052</td>\n",
       "      <td>6901</td>\n",
       "      <td>6584</td>\n",
       "      <td>5584</td>\n",
       "      <td>7488</td>\n",
       "      <td>8186</td>\n",
       "      <td>6072</td>\n",
       "      <td>4096</td>\n",
       "      <td>3331</td>\n",
       "      <td>3453</td>\n",
       "      <td>9708</td>\n",
       "    </tr>\n",
       "    <tr>\n",
       "      <th>3</th>\n",
       "      <td>8376</td>\n",
       "      <td>7595</td>\n",
       "      <td>7515</td>\n",
       "      <td>6353</td>\n",
       "      <td>5986</td>\n",
       "      <td>7741</td>\n",
       "      <td>8676</td>\n",
       "      <td>5599</td>\n",
       "      <td>2911</td>\n",
       "      <td>4640</td>\n",
       "      <td>3737</td>\n",
       "      <td>9656</td>\n",
       "    </tr>\n",
       "    <tr>\n",
       "      <th>4</th>\n",
       "      <td>10537</td>\n",
       "      <td>7651</td>\n",
       "      <td>7378</td>\n",
       "      <td>7086</td>\n",
       "      <td>8072</td>\n",
       "      <td>9002</td>\n",
       "      <td>9655</td>\n",
       "      <td>6654</td>\n",
       "      <td>4134</td>\n",
       "      <td>5364</td>\n",
       "      <td>4364</td>\n",
       "      <td>7273</td>\n",
       "    </tr>\n",
       "    <tr>\n",
       "      <th>5</th>\n",
       "      <td>7770</td>\n",
       "      <td>12109</td>\n",
       "      <td>9224</td>\n",
       "      <td>8524</td>\n",
       "      <td>9903</td>\n",
       "      <td>9158</td>\n",
       "      <td>6322</td>\n",
       "      <td>9563</td>\n",
       "      <td>5078</td>\n",
       "      <td>6032</td>\n",
       "      <td>5257</td>\n",
       "      <td>8201</td>\n",
       "    </tr>\n",
       "    <tr>\n",
       "      <th>6</th>\n",
       "      <td>5442</td>\n",
       "      <td>5425</td>\n",
       "      <td>8783</td>\n",
       "      <td>5143</td>\n",
       "      <td>5623</td>\n",
       "      <td>6575</td>\n",
       "      <td>5884</td>\n",
       "      <td>6944</td>\n",
       "      <td>2798</td>\n",
       "      <td>2615</td>\n",
       "      <td>4472</td>\n",
       "      <td>7295</td>\n",
       "    </tr>\n",
       "    <tr>\n",
       "      <th>7</th>\n",
       "      <td>7422</td>\n",
       "      <td>7615</td>\n",
       "      <td>9994</td>\n",
       "      <td>6539</td>\n",
       "      <td>4971</td>\n",
       "      <td>10361</td>\n",
       "      <td>8093</td>\n",
       "      <td>7124</td>\n",
       "      <td>4398</td>\n",
       "      <td>4573</td>\n",
       "      <td>6845</td>\n",
       "      <td>7829</td>\n",
       "    </tr>\n",
       "  </tbody>\n",
       "</table>\n",
       "</div>"
      ],
      "text/plain": [
       "Month         1      2      3     4     5      6     7     8     9     10  \\\n",
       "DayOfWeek                                                                   \n",
       "1           6993   8289  10380  6155  5848  10039  8201  7026  5195  4250   \n",
       "2           8526   8052   6901  6584  5584   7488  8186  6072  4096  3331   \n",
       "3           8376   7595   7515  6353  5986   7741  8676  5599  2911  4640   \n",
       "4          10537   7651   7378  7086  8072   9002  9655  6654  4134  5364   \n",
       "5           7770  12109   9224  8524  9903   9158  6322  9563  5078  6032   \n",
       "6           5442   5425   8783  5143  5623   6575  5884  6944  2798  2615   \n",
       "7           7422   7615   9994  6539  4971  10361  8093  7124  4398  4573   \n",
       "\n",
       "Month        11     12  \n",
       "DayOfWeek               \n",
       "1          3615  11196  \n",
       "2          3453   9708  \n",
       "3          3737   9656  \n",
       "4          4364   7273  \n",
       "5          5257   8201  \n",
       "6          4472   7295  \n",
       "7          6845   7829  "
      ]
     },
     "execution_count": 19,
     "metadata": {},
     "output_type": "execute_result"
    }
   ],
   "source": [
    "#cross tabulation of Day of Week and Month\n",
    "pd.crosstab(data.DayOfWeek,data.Month)"
   ]
  },
  {
   "cell_type": "code",
   "execution_count": 20,
   "metadata": {
    "collapsed": false
   },
   "outputs": [
    {
     "data": {
      "text/plain": [
       "<seaborn.axisgrid.PairGrid at 0x1154bf590>"
      ]
     },
     "execution_count": 20,
     "metadata": {},
     "output_type": "execute_result"
    },
    {
     "data": {
      "image/png": "[encoded data removed]",
      "text/plain": [
       "<matplotlib.figure.Figure at 0x1154bf310>"
      ]
     },
     "metadata": {},
     "output_type": "display_data"
    }
   ],
   "source": [
    "#Plot the Arrival Dealy to show which Day of week has the maximum delay\n",
    "sns.pairplot(data, x_vars='DayOfWeek', y_vars='ArrDelay', kind='scatter', size=6)"
   ]
  },
  {
   "cell_type": "code",
   "execution_count": 21,
   "metadata": {
    "collapsed": false
   },
   "outputs": [
    {
     "data": {
      "text/plain": [
       "27040"
      ]
     },
     "execution_count": 21,
     "metadata": {},
     "output_type": "execute_result"
    }
   ],
   "source": [
    "#Count the number of flights which had on time arrival\n",
    "len(fltdata[fltdata['ArrDelay'] == 0])\n",
    "\n",
    "#len(fltdata[fltdata['Year'] == 2008]) "
   ]
  },
  {
   "cell_type": "code",
   "execution_count": 22,
   "metadata": {
    "collapsed": false
   },
   "outputs": [
    {
     "data": {
      "text/plain": [
       "1723415"
      ]
     },
     "execution_count": 22,
     "metadata": {},
     "output_type": "execute_result"
    }
   ],
   "source": [
    "#Count the number of flights which had late arrival\n",
    "len(fltdata[fltdata['ArrDelay'] > 0])"
   ]
  },
  {
   "cell_type": "code",
   "execution_count": 23,
   "metadata": {
    "collapsed": false
   },
   "outputs": [
    {
     "data": {
      "text/plain": [
       "177916"
      ]
     },
     "execution_count": 23,
     "metadata": {},
     "output_type": "execute_result"
    }
   ],
   "source": [
    "#Count the number of flights which were ahead of the arrival schedule\n",
    "len(fltdata[fltdata['ArrDelay'] < 0])"
   ]
  },
  {
   "cell_type": "code",
   "execution_count": 24,
   "metadata": {
    "collapsed": false
   },
   "outputs": [
    {
     "data": {
      "text/plain": [
       "2461.0"
      ]
     },
     "execution_count": 24,
     "metadata": {},
     "output_type": "execute_result"
    }
   ],
   "source": [
    "#What was the maximum delay in minutes\n",
    "fltdata['ArrDelay'].max()"
   ]
  },
  {
   "cell_type": "code",
   "execution_count": 25,
   "metadata": {
    "collapsed": false
   },
   "outputs": [
    {
     "data": {
      "text/plain": [
       "0"
      ]
     },
     "execution_count": 25,
     "metadata": {},
     "output_type": "execute_result"
    }
   ],
   "source": [
    "#Confirm that was the maximum delay\n",
    "len(fltdata[fltdata['ArrDelay'] > 2461])"
   ]
  },
  {
   "cell_type": "code",
   "execution_count": 26,
   "metadata": {
    "collapsed": false
   },
   "outputs": [
    {
     "data": {
      "text/plain": [
       "Unnamed: 0           1018798\n",
       "Year                    2008\n",
       "Month                      2\n",
       "DayofMonth                 3\n",
       "DayOfWeek                  7\n",
       "DepTime                 1117\n",
       "CRSDepTime              1820\n",
       "ArrTime                 2256\n",
       "CRSArrTime               555\n",
       "UniqueCarrier             NW\n",
       "FlightNum                808\n",
       "TailNum               N817NW\n",
       "ActualElapsedTime        459\n",
       "CRSElapsedTime           455\n",
       "AirTime                  437\n",
       "ArrDelay                2461\n",
       "DepDelay                2457\n",
       "Origin                   HNL\n",
       "Dest                     MSP\n",
       "Distance                3972\n",
       "TaxiIn                     6\n",
       "TaxiOut                   16\n",
       "Cancelled                  0\n",
       "CancellationCode           N\n",
       "Diverted                   0\n",
       "CarrierDelay            1455\n",
       "WeatherDelay               0\n",
       "NASDelay                   4\n",
       "SecurityDelay              0\n",
       "LateAircraftDelay       1002\n",
       "Name: 322516, dtype: object"
      ]
     },
     "execution_count": 26,
     "metadata": {},
     "output_type": "execute_result"
    }
   ],
   "source": [
    "#Print the row where there was maximum Flight Delay\n",
    "\n",
    "fltdata.loc[fltdata['ArrDelay'].argmax()]"
   ]
  },
  {
   "cell_type": "code",
   "execution_count": 27,
   "metadata": {
    "collapsed": false
   },
   "outputs": [
    {
     "data": {
      "text/plain": [
       "-109.0"
      ]
     },
     "execution_count": 27,
     "metadata": {},
     "output_type": "execute_result"
    }
   ],
   "source": [
    "#What was the earliest arrival time\n",
    "fltdata['ArrDelay'].min()"
   ]
  },
  {
   "cell_type": "code",
   "execution_count": 28,
   "metadata": {
    "collapsed": false
   },
   "outputs": [
    {
     "data": {
      "text/plain": [
       "0"
      ]
     },
     "execution_count": 28,
     "metadata": {},
     "output_type": "execute_result"
    }
   ],
   "source": [
    "#Confirm that was the earliest arrival time\n",
    "len(fltdata[fltdata['ArrDelay'] < -109])"
   ]
  },
  {
   "cell_type": "code",
   "execution_count": 29,
   "metadata": {
    "collapsed": false
   },
   "outputs": [
    {
     "data": {
      "text/plain": [
       "Unnamed: 0           3698229\n",
       "Year                    2008\n",
       "Month                      7\n",
       "DayofMonth                31\n",
       "DayOfWeek                  4\n",
       "DepTime                 1449\n",
       "CRSDepTime              1430\n",
       "ArrTime                 1331\n",
       "CRSArrTime              1520\n",
       "UniqueCarrier             WN\n",
       "FlightNum                987\n",
       "TailNum               N396SW\n",
       "ActualElapsedTime         42\n",
       "CRSElapsedTime           170\n",
       "AirTime                   29\n",
       "ArrDelay                -109\n",
       "DepDelay                  19\n",
       "Origin                   AUS\n",
       "Dest                     SAN\n",
       "Distance                1164\n",
       "TaxiIn                     3\n",
       "TaxiOut                   10\n",
       "Cancelled                  0\n",
       "CancellationCode           N\n",
       "Diverted                   0\n",
       "CarrierDelay             NaN\n",
       "WeatherDelay             NaN\n",
       "NASDelay                 NaN\n",
       "SecurityDelay            NaN\n",
       "LateAircraftDelay        NaN\n",
       "Name: 1110539, dtype: object"
      ]
     },
     "execution_count": 29,
     "metadata": {},
     "output_type": "execute_result"
    }
   ],
   "source": [
    "#Print the row with earliest arrival Flight\n",
    "\n",
    "fltdata.loc[fltdata['ArrDelay'].argmin()]"
   ]
  },
  {
   "cell_type": "code",
   "execution_count": null,
   "metadata": {
    "collapsed": true
   },
   "outputs": [],
   "source": []
  }
 ],
 "metadata": {
  "anaconda-cloud": {},
  "kernelspec": {
   "display_name": "Python [default]",
   "language": "python",
   "name": "python2"
  },
  "language_info": {
   "codemirror_mode": {
    "name": "ipython",
    "version": 2
   },
   "file_extension": ".py",
   "mimetype": "text/x-python",
   "name": "python",
   "nbconvert_exporter": "python",
   "pygments_lexer": "ipython2",
   "version": "2.7.12"
  }
 },
 "nbformat": 4,
 "nbformat_minor": 0
}
